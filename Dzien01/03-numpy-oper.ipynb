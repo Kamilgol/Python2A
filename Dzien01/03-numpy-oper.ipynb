{
 "cells": [
  {
   "cell_type": "code",
   "execution_count": 1,
   "id": "5c98b418",
   "metadata": {},
   "outputs": [],
   "source": [
    "import numpy as np"
   ]
  },
  {
   "cell_type": "code",
   "execution_count": 2,
   "id": "0231e070",
   "metadata": {},
   "outputs": [
    {
     "data": {
      "text/plain": [
       "(array([10, 20, 30, 40, 50, 60, 70]), array([1, 2, 3, 4, 5, 6, 7]))"
      ]
     },
     "execution_count": 2,
     "metadata": {},
     "output_type": "execute_result"
    }
   ],
   "source": [
    "a = np.array([10, 20, 30, 40, 50, 60, 70])\n",
    "b = np.array([1, 2, 3, 4, 5, 6, 7])\n",
    "a, b"
   ]
  },
  {
   "cell_type": "code",
   "execution_count": 3,
   "id": "3030fa50",
   "metadata": {},
   "outputs": [
    {
     "data": {
      "text/plain": [
       "array([11, 22, 33, 44, 55, 66, 77])"
      ]
     },
     "execution_count": 3,
     "metadata": {},
     "output_type": "execute_result"
    }
   ],
   "source": [
    "a+b"
   ]
  },
  {
   "cell_type": "code",
   "execution_count": 4,
   "id": "968b00e4",
   "metadata": {},
   "outputs": [
    {
     "data": {
      "text/plain": [
       "array([ 9, 18, 27, 36, 45, 54, 63])"
      ]
     },
     "execution_count": 4,
     "metadata": {},
     "output_type": "execute_result"
    }
   ],
   "source": [
    "a-b"
   ]
  },
  {
   "cell_type": "code",
   "execution_count": 5,
   "id": "23bb234e",
   "metadata": {},
   "outputs": [
    {
     "data": {
      "text/plain": [
       "array([ 10,  40,  90, 160, 250, 360, 490])"
      ]
     },
     "execution_count": 5,
     "metadata": {},
     "output_type": "execute_result"
    }
   ],
   "source": [
    "a*b"
   ]
  },
  {
   "cell_type": "code",
   "execution_count": 6,
   "id": "d9f8d8c4",
   "metadata": {},
   "outputs": [
    {
     "data": {
      "text/plain": [
       "array([10., 10., 10., 10., 10., 10., 10.])"
      ]
     },
     "execution_count": 6,
     "metadata": {},
     "output_type": "execute_result"
    }
   ],
   "source": [
    "a/b"
   ]
  },
  {
   "cell_type": "code",
   "execution_count": 7,
   "id": "b760a7f3",
   "metadata": {},
   "outputs": [
    {
     "data": {
      "text/plain": [
       "array([15, 25, 35, 45, 55, 65, 75])"
      ]
     },
     "execution_count": 7,
     "metadata": {},
     "output_type": "execute_result"
    }
   ],
   "source": [
    "a+5"
   ]
  },
  {
   "cell_type": "code",
   "execution_count": 8,
   "id": "cea8ab05",
   "metadata": {},
   "outputs": [
    {
     "data": {
      "text/plain": [
       "array([ 30,  60,  90, 120, 150, 180, 210])"
      ]
     },
     "execution_count": 8,
     "metadata": {},
     "output_type": "execute_result"
    }
   ],
   "source": [
    "a*3"
   ]
  },
  {
   "cell_type": "code",
   "execution_count": 9,
   "id": "86c0917b",
   "metadata": {},
   "outputs": [
    {
     "data": {
      "text/plain": [
       "array([ 3.33333333,  6.66666667, 10.        , 13.33333333, 16.66666667,\n",
       "       20.        , 23.33333333])"
      ]
     },
     "execution_count": 9,
     "metadata": {},
     "output_type": "execute_result"
    }
   ],
   "source": [
    "a/3"
   ]
  },
  {
   "cell_type": "code",
   "execution_count": 10,
   "id": "77387ce2",
   "metadata": {},
   "outputs": [
    {
     "ename": "TypeError",
     "evalue": "No loop matching the specified signature and casting was found for ufunc true_divide",
     "output_type": "error",
     "traceback": [
      "\u001b[1;31m---------------------------------------------------------------------------\u001b[0m",
      "\u001b[1;31mTypeError\u001b[0m                                 Traceback (most recent call last)",
      "\u001b[1;32m<ipython-input-10-57a4e7e6dced>\u001b[0m in \u001b[0;36m<module>\u001b[1;34m\u001b[0m\n\u001b[1;32m----> 1\u001b[1;33m \u001b[0ma\u001b[0m \u001b[1;33m/=\u001b[0m \u001b[1;36m3\u001b[0m \u001b[1;31m# a = a/3\u001b[0m\u001b[1;33m\u001b[0m\u001b[1;33m\u001b[0m\u001b[0m\n\u001b[0m",
      "\u001b[1;31mTypeError\u001b[0m: No loop matching the specified signature and casting was found for ufunc true_divide"
     ]
    }
   ],
   "source": [
    "a /= 3 # a = a/3"
   ]
  },
  {
   "cell_type": "code",
   "execution_count": 11,
   "id": "7fd896f1",
   "metadata": {},
   "outputs": [],
   "source": [
    "a = a/3"
   ]
  },
  {
   "cell_type": "code",
   "execution_count": 12,
   "id": "6b9a1a7c",
   "metadata": {},
   "outputs": [
    {
     "data": {
      "text/plain": [
       "array([ 3.33333333,  6.66666667, 10.        , 13.33333333, 16.66666667,\n",
       "       20.        , 23.33333333])"
      ]
     },
     "execution_count": 12,
     "metadata": {},
     "output_type": "execute_result"
    }
   ],
   "source": [
    "a"
   ]
  },
  {
   "cell_type": "code",
   "execution_count": 13,
   "id": "97765a79",
   "metadata": {},
   "outputs": [
    {
     "data": {
      "text/plain": [
       "array([[1],\n",
       "       [2],\n",
       "       [3]])"
      ]
     },
     "execution_count": 13,
     "metadata": {},
     "output_type": "execute_result"
    }
   ],
   "source": [
    "arr1 = np.array([ [1],[2],[3] ])\n",
    "arr1"
   ]
  },
  {
   "cell_type": "code",
   "execution_count": 14,
   "id": "bb4c3e68",
   "metadata": {},
   "outputs": [
    {
     "data": {
      "text/plain": [
       "array([[1, 2, 3]])"
      ]
     },
     "execution_count": 14,
     "metadata": {},
     "output_type": "execute_result"
    }
   ],
   "source": [
    "arr2 = np.array([ [1,2,3] ])\n",
    "arr2"
   ]
  },
  {
   "cell_type": "code",
   "execution_count": 15,
   "id": "b59ad8c5",
   "metadata": {},
   "outputs": [
    {
     "data": {
      "text/plain": [
       "array([[2, 3, 4],\n",
       "       [3, 4, 5],\n",
       "       [4, 5, 6]])"
      ]
     },
     "execution_count": 15,
     "metadata": {},
     "output_type": "execute_result"
    }
   ],
   "source": [
    "arr1 + arr2"
   ]
  },
  {
   "cell_type": "markdown",
   "id": "dcfa84b7",
   "metadata": {},
   "source": [
    "### Wybieranie danych z tablicy"
   ]
  },
  {
   "cell_type": "code",
   "execution_count": 16,
   "id": "8a89070a",
   "metadata": {},
   "outputs": [
    {
     "data": {
      "text/plain": [
       "array([[  2,   5, -10,  -7,  -7,  -3,  -1,   9],\n",
       "       [  8,  -6,  -4,   2,  -9,  -4,  -3,   4],\n",
       "       [  7,  -5,   3,  -2,  -1,  10,   9,   6],\n",
       "       [  9,  -5,   5,   5, -10,   8,  -7,   7],\n",
       "       [  9,   9,   9,   4,  -3, -10,  -9,  -1],\n",
       "       [-10,   0,  10,  -7,   1,   8,  -8, -10],\n",
       "       [-10,  -6,  -5,  -4,  -2,  10,   7,   5]])"
      ]
     },
     "execution_count": 16,
     "metadata": {},
     "output_type": "execute_result"
    }
   ],
   "source": [
    "np.random.seed(0)\n",
    "arr = np.random.randint(-10, 11, (7,8) )\n",
    "arr"
   ]
  },
  {
   "cell_type": "code",
   "execution_count": 17,
   "id": "f5eb29ac",
   "metadata": {},
   "outputs": [
    {
     "data": {
      "text/plain": [
       "(array([-10,  -6,  -5,  -4,  -2,  10,   7,   5]),\n",
       " array([-10,  -6,  -5,  -4,  -2,  10,   7,   5]))"
      ]
     },
     "execution_count": 17,
     "metadata": {},
     "output_type": "execute_result"
    }
   ],
   "source": [
    "arr[6], arr[-1]"
   ]
  },
  {
   "cell_type": "code",
   "execution_count": 19,
   "id": "55f435c4",
   "metadata": {},
   "outputs": [
    {
     "data": {
      "text/plain": [
       "array([[ 8,  2, -3],\n",
       "       [ 7, -2,  9]])"
      ]
     },
     "execution_count": 19,
     "metadata": {},
     "output_type": "execute_result"
    }
   ],
   "source": [
    "# wiersz 2 i 3, co 3-cia kolumna\n",
    "arr[ 1:3 , ::3 ]"
   ]
  },
  {
   "cell_type": "code",
   "execution_count": 20,
   "id": "9cd215cb",
   "metadata": {},
   "outputs": [
    {
     "data": {
      "text/plain": [
       "array([[  2,   5, -10,  -7,  -7,  -3,  -1,   9],\n",
       "       [-10,  -6,  -5,  -4,  -2,  10,   7,   5]])"
      ]
     },
     "execution_count": 20,
     "metadata": {},
     "output_type": "execute_result"
    }
   ],
   "source": [
    "# tylko wiersz pierwszy i ostatni\n",
    "arr[ [0,-1]  ]"
   ]
  },
  {
   "cell_type": "code",
   "execution_count": 21,
   "id": "693219c6",
   "metadata": {},
   "outputs": [
    {
     "data": {
      "text/plain": [
       "array([[-10,  -6,  -5,  -4,  -2,  10,   7,   5],\n",
       "       [  2,   5, -10,  -7,  -7,  -3,  -1,   9]])"
      ]
     },
     "execution_count": 21,
     "metadata": {},
     "output_type": "execute_result"
    }
   ],
   "source": [
    "arr[ [-1,0]  ]"
   ]
  },
  {
   "cell_type": "code",
   "execution_count": 23,
   "id": "7d02d9ea",
   "metadata": {},
   "outputs": [
    {
     "data": {
      "text/plain": [
       "array([  9,   4,   6,   7,  -1, -10,   5])"
      ]
     },
     "execution_count": 23,
     "metadata": {},
     "output_type": "execute_result"
    }
   ],
   "source": [
    "# tylko ostatnia kolumna\n",
    "arr[ : , -1]"
   ]
  },
  {
   "cell_type": "code",
   "execution_count": 26,
   "id": "1039adc7",
   "metadata": {},
   "outputs": [
    {
     "data": {
      "text/plain": [
       "array([  9,   4,   6,   7,  -1, -10,   5])"
      ]
     },
     "execution_count": 26,
     "metadata": {},
     "output_type": "execute_result"
    }
   ],
   "source": [
    "arr.transpose()[-1]"
   ]
  },
  {
   "cell_type": "code",
   "execution_count": 28,
   "id": "4e86b740",
   "metadata": {},
   "outputs": [
    {
     "data": {
      "text/plain": [
       "array([  9,   4,   6,   7,  -1, -10,   5])"
      ]
     },
     "execution_count": 28,
     "metadata": {},
     "output_type": "execute_result"
    }
   ],
   "source": [
    "arr.T[-1]"
   ]
  },
  {
   "cell_type": "code",
   "execution_count": 29,
   "id": "aca2966c",
   "metadata": {},
   "outputs": [
    {
     "data": {
      "text/plain": [
       "array([[  2,   5, -10,  -7,  -7,  -3,  -1,   9],\n",
       "       [  8,  -6,  -4,   2,  -9,  -4,  -3,   4],\n",
       "       [  7,  -5,   3,  -2,  -1,  10,   9,   6],\n",
       "       [  9,  -5,   5,   5, -10,   8,  -7,   7],\n",
       "       [  9,   9,   9,   4,  -3, -10,  -9,  -1],\n",
       "       [-10,   0,  10,  -7,   1,   8,  -8, -10],\n",
       "       [-10,  -6,  -5,  -4,  -2,  10,   7,   5]])"
      ]
     },
     "execution_count": 29,
     "metadata": {},
     "output_type": "execute_result"
    }
   ],
   "source": [
    "arr"
   ]
  },
  {
   "cell_type": "code",
   "execution_count": 30,
   "id": "0a0231e3",
   "metadata": {},
   "outputs": [
    {
     "data": {
      "text/plain": [
       "array([[ 5, -1],\n",
       "       [-6, -3],\n",
       "       [-5,  9],\n",
       "       [-5, -7],\n",
       "       [ 9, -9],\n",
       "       [ 0, -8],\n",
       "       [-6,  7]])"
      ]
     },
     "execution_count": 30,
     "metadata": {},
     "output_type": "execute_result"
    }
   ],
   "source": [
    "# tylko kolumna nr 2 i przeostania\n",
    "arr[ : , [1,-2] ]"
   ]
  },
  {
   "cell_type": "code",
   "execution_count": 36,
   "id": "83c15c17",
   "metadata": {},
   "outputs": [
    {
     "name": "stdout",
     "output_type": "stream",
     "text": [
      "[  2   5 -10  -7  -7  -3  -1   9]\n",
      "========================================\n",
      "[ 8 -6 -4  2 -9 -4 -3  4]\n",
      "========================================\n",
      "[ 7 -5  3 -2 -1 10  9  6]\n",
      "========================================\n",
      "[  9  -5   5   5 -10   8  -7   7]\n",
      "========================================\n",
      "[  9   9   9   4  -3 -10  -9  -1]\n",
      "========================================\n",
      "[-10   0  10  -7   1   8  -8 -10]\n",
      "========================================\n",
      "[-10  -6  -5  -4  -2  10   7   5]\n",
      "========================================\n"
     ]
    }
   ],
   "source": [
    "for index in range(arr.shape[0]):\n",
    "    print(arr[index])\n",
    "    print(\"=\"*40)"
   ]
  },
  {
   "cell_type": "code",
   "execution_count": 37,
   "id": "409c2117",
   "metadata": {},
   "outputs": [
    {
     "name": "stdout",
     "output_type": "stream",
     "text": [
      "[  2   5 -10  -7  -7  -3  -1   9]\n",
      "========================================\n",
      "[ 8 -6 -4  2 -9 -4 -3  4]\n",
      "========================================\n",
      "[ 7 -5  3 -2 -1 10  9  6]\n",
      "========================================\n",
      "[  9  -5   5   5 -10   8  -7   7]\n",
      "========================================\n",
      "[  9   9   9   4  -3 -10  -9  -1]\n",
      "========================================\n",
      "[-10   0  10  -7   1   8  -8 -10]\n",
      "========================================\n",
      "[-10  -6  -5  -4  -2  10   7   5]\n",
      "========================================\n"
     ]
    }
   ],
   "source": [
    "for row in arr:\n",
    "    print(row)\n",
    "    print(\"=\"*40)"
   ]
  },
  {
   "cell_type": "markdown",
   "id": "69924042",
   "metadata": {},
   "source": [
    "### Porównanie szybkości"
   ]
  },
  {
   "cell_type": "code",
   "execution_count": 38,
   "id": "3434a5a9",
   "metadata": {},
   "outputs": [
    {
     "name": "stdout",
     "output_type": "stream",
     "text": [
      "371 µs ± 43.4 µs per loop (mean ± std. dev. of 20 runs, 500 loops each)\n"
     ]
    }
   ],
   "source": [
    "%%timeit -r 20 -n 500\n",
    "[x**2 for x in range(1_000)]"
   ]
  },
  {
   "cell_type": "code",
   "execution_count": 39,
   "id": "63bc5b83",
   "metadata": {},
   "outputs": [
    {
     "name": "stdout",
     "output_type": "stream",
     "text": [
      "The slowest run took 4.15 times longer than the fastest. This could mean that an intermediate result is being cached.\n",
      "5.84 µs ± 2.25 µs per loop (mean ± std. dev. of 20 runs, 500 loops each)\n"
     ]
    }
   ],
   "source": [
    "%%timeit -r 20 -n 500\n",
    "np.arange(1000)**2"
   ]
  },
  {
   "cell_type": "code",
   "execution_count": 40,
   "id": "a1ac8fcf",
   "metadata": {},
   "outputs": [
    {
     "data": {
      "text/plain": [
       "61.833333333333336"
      ]
     },
     "execution_count": 40,
     "metadata": {},
     "output_type": "execute_result"
    }
   ],
   "source": [
    "371/6"
   ]
  },
  {
   "cell_type": "code",
   "execution_count": null,
   "id": "6abaaadf",
   "metadata": {},
   "outputs": [],
   "source": []
  }
 ],
 "metadata": {
  "kernelspec": {
   "display_name": "Python 3",
   "language": "python",
   "name": "python3"
  },
  "language_info": {
   "codemirror_mode": {
    "name": "ipython",
    "version": 3
   },
   "file_extension": ".py",
   "mimetype": "text/x-python",
   "name": "python",
   "nbconvert_exporter": "python",
   "pygments_lexer": "ipython3",
   "version": "3.8.8"
  }
 },
 "nbformat": 4,
 "nbformat_minor": 5
}
