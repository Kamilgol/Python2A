{
 "cells": [
  {
   "cell_type": "code",
   "execution_count": null,
   "id": "6a954c45",
   "metadata": {},
   "outputs": [],
   "source": [
    "import numpy as np"
   ]
  },
  {
   "cell_type": "code",
   "execution_count": null,
   "id": "76c56bd5",
   "metadata": {},
   "outputs": [],
   "source": [
    "_list = [123, -987.54, False, True, None, [1,2,3], {\"x\":1, \"y\":2} ]\n",
    "_list"
   ]
  },
  {
   "cell_type": "code",
   "execution_count": null,
   "id": "d1590031",
   "metadata": {},
   "outputs": [],
   "source": [
    "_list[6], _list[-1]"
   ]
  },
  {
   "cell_type": "code",
   "execution_count": null,
   "id": "75f51d60",
   "metadata": {},
   "outputs": [],
   "source": [
    "_list[::2]"
   ]
  },
  {
   "cell_type": "code",
   "execution_count": null,
   "id": "ce40ad24",
   "metadata": {},
   "outputs": [],
   "source": [
    "_list[1:6]"
   ]
  },
  {
   "cell_type": "code",
   "execution_count": null,
   "id": "8e2d6033",
   "metadata": {},
   "outputs": [],
   "source": [
    "_list[1:-1]"
   ]
  },
  {
   "cell_type": "code",
   "execution_count": null,
   "id": "5fb7a8c3",
   "metadata": {},
   "outputs": [],
   "source": [
    "a = [1,3,5,7]\n",
    "b = [1,3,5,7]\n",
    "a + b"
   ]
  },
  {
   "cell_type": "code",
   "execution_count": null,
   "id": "e11296fc",
   "metadata": {},
   "outputs": [],
   "source": [
    "a and b"
   ]
  },
  {
   "cell_type": "code",
   "execution_count": null,
   "id": "0eaa037d",
   "metadata": {},
   "outputs": [],
   "source": [
    "_list"
   ]
  },
  {
   "cell_type": "code",
   "execution_count": null,
   "id": "7ed784e0",
   "metadata": {},
   "outputs": [],
   "source": [
    "_list[::-1] # odwrócona lista _list"
   ]
  },
  {
   "cell_type": "markdown",
   "id": "87f0f286",
   "metadata": {},
   "source": [
    "### Tworzenie tablic numpy.ndarray"
   ]
  },
  {
   "cell_type": "code",
   "execution_count": null,
   "id": "e47c483b",
   "metadata": {},
   "outputs": [],
   "source": [
    "arr = np.array([1,3,5,7])\n",
    "arr"
   ]
  },
  {
   "cell_type": "code",
   "execution_count": null,
   "id": "71ec19d5",
   "metadata": {},
   "outputs": [],
   "source": [
    "type(arr)"
   ]
  },
  {
   "cell_type": "code",
   "execution_count": null,
   "id": "0b6bbc47",
   "metadata": {},
   "outputs": [],
   "source": [
    "arr = np.array([ [1,2,3], [4,5,6], [7,8,9]  ])\n",
    "arr"
   ]
  },
  {
   "cell_type": "code",
   "execution_count": null,
   "id": "a907fe85",
   "metadata": {},
   "outputs": [],
   "source": [
    "arr.dtype"
   ]
  },
  {
   "cell_type": "code",
   "execution_count": null,
   "id": "b3b0858e",
   "metadata": {},
   "outputs": [],
   "source": [
    "arr = np.array([ [1. ,2,3], [4,5,6], [7,8,9]  ])\n",
    "arr"
   ]
  },
  {
   "cell_type": "code",
   "execution_count": null,
   "id": "2c1906b2",
   "metadata": {},
   "outputs": [],
   "source": [
    "arr.dtype"
   ]
  },
  {
   "cell_type": "code",
   "execution_count": null,
   "id": "d0ee73a5",
   "metadata": {},
   "outputs": [],
   "source": [
    "arr = np.array([ [1. ,2.1 ,3.2], [4,5,6.9], [7,8,9]  ], dtype='int') # np.float16\n",
    "arr #arr.dtype"
   ]
  },
  {
   "cell_type": "code",
   "execution_count": null,
   "id": "4c6b49e8",
   "metadata": {},
   "outputs": [],
   "source": [
    "np.zeros( (3,5) , dtype='uint8' )"
   ]
  },
  {
   "cell_type": "code",
   "execution_count": null,
   "id": "001592c5",
   "metadata": {},
   "outputs": [],
   "source": [
    "np.full( (10,) , 123, dtype='int64'  )"
   ]
  },
  {
   "cell_type": "code",
   "execution_count": null,
   "id": "ed854466",
   "metadata": {},
   "outputs": [],
   "source": [
    "np.ones( (5,3) )"
   ]
  },
  {
   "cell_type": "code",
   "execution_count": null,
   "id": "11d068ad",
   "metadata": {},
   "outputs": [],
   "source": [
    "np.diag([1,2,3,4,5], k=-2)"
   ]
  },
  {
   "cell_type": "code",
   "execution_count": null,
   "id": "db1426ec",
   "metadata": {},
   "outputs": [],
   "source": [
    "#np.diag([1]*6)\n",
    "np.eye(6, dtype='int8')"
   ]
  },
  {
   "cell_type": "code",
   "execution_count": null,
   "id": "ee2b7654",
   "metadata": {},
   "outputs": [],
   "source": [
    "#np.array(range(1,11))\n",
    "np.arange(1, 11)"
   ]
  },
  {
   "cell_type": "code",
   "execution_count": null,
   "id": "c85d4c59",
   "metadata": {},
   "outputs": [],
   "source": [
    "np.arange(0.2, 0.8, 0.05)"
   ]
  },
  {
   "cell_type": "code",
   "execution_count": null,
   "id": "8ad757f2",
   "metadata": {},
   "outputs": [],
   "source": [
    "np.linspace(0.2, 0.8, 7)"
   ]
  },
  {
   "cell_type": "code",
   "execution_count": null,
   "id": "e442b2f5",
   "metadata": {},
   "outputs": [],
   "source": [
    "np.linspace(0.2, 0.8, 7, endpoint=False)"
   ]
  },
  {
   "cell_type": "markdown",
   "id": "e604f56d",
   "metadata": {},
   "source": [
    "### Właściwości tablic"
   ]
  },
  {
   "cell_type": "code",
   "execution_count": null,
   "id": "9f03632d",
   "metadata": {},
   "outputs": [],
   "source": [
    "arr = np.zeros( (6,7), dtype='int16')\n",
    "arr"
   ]
  },
  {
   "cell_type": "code",
   "execution_count": null,
   "id": "f4bc71bd",
   "metadata": {},
   "outputs": [],
   "source": [
    "arr.shape # kształ tablicy"
   ]
  },
  {
   "cell_type": "code",
   "execution_count": null,
   "id": "95223301",
   "metadata": {},
   "outputs": [],
   "source": [
    "arr.size # liczba elementow"
   ]
  },
  {
   "cell_type": "code",
   "execution_count": null,
   "id": "dd74a23e",
   "metadata": {},
   "outputs": [],
   "source": [
    "len(arr.shape), arr.ndim # liczba wymiarow"
   ]
  },
  {
   "cell_type": "code",
   "execution_count": null,
   "id": "402618c5",
   "metadata": {},
   "outputs": [],
   "source": [
    "arr.size * arr.itemsize"
   ]
  },
  {
   "cell_type": "markdown",
   "id": "e73a03c4",
   "metadata": {},
   "source": [
    "### Tworzenie tablic z wykorzystaniem generatorow liczb pseudolosowych"
   ]
  },
  {
   "cell_type": "code",
   "execution_count": null,
   "id": "90762e17",
   "metadata": {},
   "outputs": [],
   "source": [
    "np.random.seed()"
   ]
  },
  {
   "cell_type": "code",
   "execution_count": null,
   "id": "1eb7be80",
   "metadata": {},
   "outputs": [],
   "source": [
    "np.random.rand(2,2)"
   ]
  },
  {
   "cell_type": "code",
   "execution_count": null,
   "id": "ef53db92",
   "metadata": {},
   "outputs": [],
   "source": [
    "arr1 = np.random.rand(100_000,5)\n",
    "arr1"
   ]
  },
  {
   "cell_type": "code",
   "execution_count": null,
   "id": "fbfe0f64",
   "metadata": {},
   "outputs": [],
   "source": [
    "import matplotlib.pyplot as plt"
   ]
  },
  {
   "cell_type": "code",
   "execution_count": null,
   "id": "8a5412c5",
   "metadata": {},
   "outputs": [],
   "source": [
    "plt.hist(arr1.flatten(), bins=50)\n",
    "plt.show()"
   ]
  },
  {
   "cell_type": "code",
   "execution_count": null,
   "id": "a97764f2",
   "metadata": {},
   "outputs": [],
   "source": [
    "arr1 = np.random.randn(100_000,5)\n",
    "arr1"
   ]
  },
  {
   "cell_type": "code",
   "execution_count": null,
   "id": "b774414f",
   "metadata": {},
   "outputs": [],
   "source": [
    "plt.hist(arr1.flatten(), bins=50)\n",
    "plt.show()"
   ]
  },
  {
   "cell_type": "code",
   "execution_count": null,
   "id": "a7b625a6",
   "metadata": {},
   "outputs": [],
   "source": [
    "arr = np.random.choice([1,3,5,7,9], 30_000, p=[2/10, 1/10, 1/10, 4/10, 2/10])\n",
    "plt.hist(arr, bins=50)\n",
    "plt.show()"
   ]
  },
  {
   "cell_type": "markdown",
   "id": "3173768c",
   "metadata": {},
   "source": [
    "### Ładowanie danych z CSV do tablicy"
   ]
  },
  {
   "cell_type": "code",
   "execution_count": null,
   "id": "e0a3fc4a",
   "metadata": {},
   "outputs": [],
   "source": [
    "arr = np.genfromtxt(\"numpy.csv\", delimiter=',', usecols=[0,1,2,3])\n",
    "arr"
   ]
  },
  {
   "cell_type": "code",
   "execution_count": 72,
   "id": "db4dfc9a",
   "metadata": {},
   "outputs": [],
   "source": [
    "np.savetxt(\"dump.csv\", arr, fmt='%.3f', delimiter=';')"
   ]
  },
  {
   "cell_type": "code",
   "execution_count": null,
   "id": "e3c18a9c",
   "metadata": {},
   "outputs": [],
   "source": []
  }
 ],
 "metadata": {
  "kernelspec": {
   "display_name": "Python 3",
   "language": "python",
   "name": "python3"
  },
  "language_info": {
   "codemirror_mode": {
    "name": "ipython",
    "version": 3
   },
   "file_extension": ".py",
   "mimetype": "text/x-python",
   "name": "python",
   "nbconvert_exporter": "python",
   "pygments_lexer": "ipython3",
   "version": "3.8.8"
  }
 },
 "nbformat": 4,
 "nbformat_minor": 5
}
