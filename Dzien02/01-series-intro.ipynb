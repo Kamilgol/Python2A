{
 "cells": [
  {
   "cell_type": "code",
   "execution_count": 1,
   "id": "3bc8dfbe",
   "metadata": {},
   "outputs": [],
   "source": [
    "import pandas as pd"
   ]
  },
  {
   "cell_type": "code",
   "execution_count": 2,
   "id": "e56bb5ee",
   "metadata": {},
   "outputs": [
    {
     "data": {
      "text/plain": [
       "'1.2.4'"
      ]
     },
     "execution_count": 2,
     "metadata": {},
     "output_type": "execute_result"
    }
   ],
   "source": [
    "pd.__version__"
   ]
  },
  {
   "cell_type": "code",
   "execution_count": 3,
   "id": "c86cde49",
   "metadata": {},
   "outputs": [
    {
     "data": {
      "text/plain": [
       "0      Gdańsk\n",
       "1      Poznań\n",
       "2    Warszawa\n",
       "3        Łódź\n",
       "4      Sierpc\n",
       "5     Wrocław\n",
       "dtype: object"
      ]
     },
     "execution_count": 3,
     "metadata": {},
     "output_type": "execute_result"
    }
   ],
   "source": [
    "cities = ['Gdańsk','Poznań','Warszawa','Łódź','Sierpc','Wrocław']\n",
    "serie = pd.Series(cities)\n",
    "serie"
   ]
  },
  {
   "cell_type": "code",
   "execution_count": 4,
   "id": "98c3bf86",
   "metadata": {},
   "outputs": [
    {
     "data": {
      "text/plain": [
       "pandas.core.series.Series"
      ]
     },
     "execution_count": 4,
     "metadata": {},
     "output_type": "execute_result"
    }
   ],
   "source": [
    "type(serie)"
   ]
  },
  {
   "cell_type": "code",
   "execution_count": 5,
   "id": "26e46461",
   "metadata": {},
   "outputs": [
    {
     "data": {
      "text/plain": [
       "array(['Gdańsk', 'Poznań', 'Warszawa', 'Łódź', 'Sierpc', 'Wrocław'],\n",
       "      dtype=object)"
      ]
     },
     "execution_count": 5,
     "metadata": {},
     "output_type": "execute_result"
    }
   ],
   "source": [
    "serie.values # dane serii"
   ]
  },
  {
   "cell_type": "code",
   "execution_count": 7,
   "id": "53d6be91",
   "metadata": {},
   "outputs": [
    {
     "data": {
      "text/plain": [
       "[0, 1, 2, 3, 4, 5]"
      ]
     },
     "execution_count": 7,
     "metadata": {},
     "output_type": "execute_result"
    }
   ],
   "source": [
    "list(serie.index) # indeks serii"
   ]
  },
  {
   "cell_type": "code",
   "execution_count": 8,
   "id": "c44231fb",
   "metadata": {},
   "outputs": [
    {
     "data": {
      "text/plain": [
       "GD       Gdańsk\n",
       "PO       Poznań\n",
       "WI     Warszawa\n",
       "EL         Łódź\n",
       "WSE      Sierpc\n",
       "DW      Wrocław\n",
       "dtype: object"
      ]
     },
     "execution_count": 8,
     "metadata": {},
     "output_type": "execute_result"
    }
   ],
   "source": [
    "cities = ['Gdańsk','Poznań','Warszawa','Łódź','Sierpc','Wrocław']\n",
    "plates = ['GD', 'PO', 'WI', 'EL', 'WSE', 'DW']\n",
    "serie = pd.Series(cities, plates)\n",
    "serie"
   ]
  },
  {
   "cell_type": "code",
   "execution_count": 9,
   "id": "b6e43aa7",
   "metadata": {},
   "outputs": [
    {
     "data": {
      "text/plain": [
       "Index(['GD', 'PO', 'WI', 'EL', 'WSE', 'DW'], dtype='object')"
      ]
     },
     "execution_count": 9,
     "metadata": {},
     "output_type": "execute_result"
    }
   ],
   "source": [
    "serie.index"
   ]
  },
  {
   "cell_type": "code",
   "execution_count": 10,
   "id": "c667e063",
   "metadata": {},
   "outputs": [
    {
     "data": {
      "text/plain": [
       "Poland      38123456\n",
       "Germany     82456111\n",
       "Russia     150876234\n",
       "USA        320876222\n",
       "UK          62234987\n",
       "dtype: int64"
      ]
     },
     "execution_count": 10,
     "metadata": {},
     "output_type": "execute_result"
    }
   ],
   "source": [
    "countries = [\"Poland\",\"Germany\",\"Russia\",\"USA\",\"UK\"]\n",
    "population = [ 38123456, 82456111, 150876234, 320876222, 62234987 ]\n",
    "serie = pd.Series(population, countries)\n",
    "serie"
   ]
  },
  {
   "cell_type": "code",
   "execution_count": 11,
   "id": "c236e913",
   "metadata": {},
   "outputs": [
    {
     "data": {
      "text/plain": [
       "Poland     False\n",
       "Germany     True\n",
       "Russia      True\n",
       "USA         True\n",
       "UK         False\n",
       "dtype: bool"
      ]
     },
     "execution_count": 11,
     "metadata": {},
     "output_type": "execute_result"
    }
   ],
   "source": [
    "serie>80_000_000"
   ]
  },
  {
   "cell_type": "code",
   "execution_count": 12,
   "id": "3310690b",
   "metadata": {},
   "outputs": [
    {
     "data": {
      "text/plain": [
       "Germany     82456111\n",
       "Russia     150876234\n",
       "USA        320876222\n",
       "dtype: int64"
      ]
     },
     "execution_count": 12,
     "metadata": {},
     "output_type": "execute_result"
    }
   ],
   "source": [
    "serie[ serie>80_000_000 ]"
   ]
  },
  {
   "cell_type": "code",
   "execution_count": 14,
   "id": "2e17911c",
   "metadata": {},
   "outputs": [
    {
     "data": {
      "text/plain": [
       "Poland      38123456\n",
       "Germany     82456111\n",
       "Russia     150876234\n",
       "USA        320876222\n",
       "UK          62234987\n",
       "dtype: int64"
      ]
     },
     "execution_count": 14,
     "metadata": {},
     "output_type": "execute_result"
    }
   ],
   "source": [
    "serie"
   ]
  },
  {
   "cell_type": "code",
   "execution_count": 15,
   "id": "7b59cc2c",
   "metadata": {},
   "outputs": [],
   "source": [
    "def convert_pop(x):\n",
    "    if x<50_000_000:\n",
    "        return \"L\"\n",
    "    if x<100_000_000:\n",
    "        return \"M\"\n",
    "    return \"H\""
   ]
  },
  {
   "cell_type": "code",
   "execution_count": 18,
   "id": "a507e745",
   "metadata": {},
   "outputs": [
    {
     "data": {
      "text/plain": [
       "'L'"
      ]
     },
     "execution_count": 18,
     "metadata": {},
     "output_type": "execute_result"
    }
   ],
   "source": [
    "convert_pop(5_123_456)"
   ]
  },
  {
   "cell_type": "code",
   "execution_count": 19,
   "id": "a6d670f4",
   "metadata": {},
   "outputs": [
    {
     "data": {
      "text/plain": [
       "Poland     L\n",
       "Germany    M\n",
       "Russia     H\n",
       "USA        H\n",
       "UK         M\n",
       "dtype: object"
      ]
     },
     "execution_count": 19,
     "metadata": {},
     "output_type": "execute_result"
    }
   ],
   "source": [
    "serie.apply(convert_pop)"
   ]
  },
  {
   "cell_type": "code",
   "execution_count": 21,
   "id": "01e5d226",
   "metadata": {},
   "outputs": [
    {
     "data": {
      "text/plain": [
       "Poland      38.123\n",
       "Germany     82.456\n",
       "Russia     150.876\n",
       "USA        320.876\n",
       "UK          62.235\n",
       "dtype: float64"
      ]
     },
     "execution_count": 21,
     "metadata": {},
     "output_type": "execute_result"
    }
   ],
   "source": [
    "serie.apply(lambda x: round(x/1_000_000,3) )"
   ]
  },
  {
   "cell_type": "code",
   "execution_count": 22,
   "id": "ba29d2f1",
   "metadata": {},
   "outputs": [
    {
     "data": {
      "text/plain": [
       "0    PL\n",
       "1    UK\n",
       "2    DE\n",
       "3    US\n",
       "dtype: object"
      ]
     },
     "execution_count": 22,
     "metadata": {},
     "output_type": "execute_result"
    }
   ],
   "source": [
    "serie = pd.Series([\"PL\",\"UK\",\"DE\",\"US\"])\n",
    "serie"
   ]
  },
  {
   "cell_type": "code",
   "execution_count": 24,
   "id": "526fdfe5",
   "metadata": {},
   "outputs": [
    {
     "data": {
      "text/plain": [
       "0          Polska\n",
       "1    Wlk Brytania\n",
       "2          Niemcy\n",
       "3             NaN\n",
       "dtype: object"
      ]
     },
     "execution_count": 24,
     "metadata": {},
     "output_type": "execute_result"
    }
   ],
   "source": [
    "countries_map = {\n",
    "    \"PL\" : \"Polska\", \"UK\": \"Wlk Brytania\", \"DE\" : \"Niemcy\", #\"US\": \"USA\"\n",
    "}\n",
    "serie.map(countries_map)"
   ]
  },
  {
   "cell_type": "code",
   "execution_count": 25,
   "id": "6b5eaee7",
   "metadata": {},
   "outputs": [
    {
     "data": {
      "text/plain": [
       "Poland      38123456\n",
       "Germany     82456111\n",
       "Russia     150876234\n",
       "USA        320876222\n",
       "UK          62234987\n",
       "dtype: int64"
      ]
     },
     "execution_count": 25,
     "metadata": {},
     "output_type": "execute_result"
    }
   ],
   "source": [
    "# sortowanie\n",
    "countries = [\"Poland\",\"Germany\",\"Russia\",\"USA\",\"UK\"]\n",
    "population = [ 38123456, 82456111, 150876234, 320876222, 62234987 ]\n",
    "serie = pd.Series(population, countries)\n",
    "serie"
   ]
  },
  {
   "cell_type": "code",
   "execution_count": 27,
   "id": "617f69bc",
   "metadata": {},
   "outputs": [
    {
     "data": {
      "text/plain": [
       "USA        320876222\n",
       "Russia     150876234\n",
       "Germany     82456111\n",
       "UK          62234987\n",
       "Poland      38123456\n",
       "dtype: int64"
      ]
     },
     "execution_count": 27,
     "metadata": {},
     "output_type": "execute_result"
    }
   ],
   "source": [
    "serie.sort_values(ascending=False)"
   ]
  },
  {
   "cell_type": "code",
   "execution_count": 28,
   "id": "2ada19ce",
   "metadata": {},
   "outputs": [
    {
     "data": {
      "text/plain": [
       "USA        320876222\n",
       "UK          62234987\n",
       "Russia     150876234\n",
       "Poland      38123456\n",
       "Germany     82456111\n",
       "dtype: int64"
      ]
     },
     "execution_count": 28,
     "metadata": {},
     "output_type": "execute_result"
    }
   ],
   "source": [
    "serie.sort_index(ascending=False)"
   ]
  },
  {
   "cell_type": "code",
   "execution_count": 30,
   "id": "ba04e8f2",
   "metadata": {},
   "outputs": [
    {
     "data": {
      "text/plain": [
       "(654567010, 38123456, 320876222, 130913402.0, 114191938.70460652)"
      ]
     },
     "execution_count": 30,
     "metadata": {},
     "output_type": "execute_result"
    }
   ],
   "source": [
    "serie.sum(), serie.min(), serie.max(), serie.mean(), serie.std()"
   ]
  },
  {
   "cell_type": "code",
   "execution_count": 32,
   "id": "e8c204fd",
   "metadata": {},
   "outputs": [
    {
     "data": {
      "text/plain": [
       "Poland     38123456\n",
       "Germany    82456111\n",
       "dtype: int64"
      ]
     },
     "execution_count": 32,
     "metadata": {},
     "output_type": "execute_result"
    }
   ],
   "source": [
    "serie.head(2)"
   ]
  },
  {
   "cell_type": "code",
   "execution_count": 33,
   "id": "8d1e0f04",
   "metadata": {},
   "outputs": [
    {
     "data": {
      "text/plain": [
       "USA    320876222\n",
       "UK      62234987\n",
       "dtype: int64"
      ]
     },
     "execution_count": 33,
     "metadata": {},
     "output_type": "execute_result"
    }
   ],
   "source": [
    "serie.tail(2)"
   ]
  },
  {
   "cell_type": "code",
   "execution_count": 34,
   "id": "73473c23",
   "metadata": {},
   "outputs": [
    {
     "data": {
      "text/plain": [
       "Poland      38123456\n",
       "Germany     82456111\n",
       "Russia     150876234\n",
       "USA        320876222\n",
       "UK          62234987\n",
       "dtype: int64"
      ]
     },
     "execution_count": 34,
     "metadata": {},
     "output_type": "execute_result"
    }
   ],
   "source": [
    "serie"
   ]
  },
  {
   "cell_type": "code",
   "execution_count": 37,
   "id": "4f676822",
   "metadata": {},
   "outputs": [
    {
     "data": {
      "text/plain": [
       "(38123456, 38123456, 38123456)"
      ]
     },
     "execution_count": 37,
     "metadata": {},
     "output_type": "execute_result"
    }
   ],
   "source": [
    "serie[\"Poland\"], serie.Poland, serie.loc[\"Poland\"]"
   ]
  },
  {
   "cell_type": "code",
   "execution_count": 39,
   "id": "27f53766",
   "metadata": {},
   "outputs": [
    {
     "data": {
      "text/plain": [
       "(38123456, 38123456)"
      ]
     },
     "execution_count": 39,
     "metadata": {},
     "output_type": "execute_result"
    }
   ],
   "source": [
    "serie.iloc[0], serie[0]"
   ]
  },
  {
   "cell_type": "code",
   "execution_count": 41,
   "id": "843aad02",
   "metadata": {},
   "outputs": [
    {
     "data": {
      "text/plain": [
       "Germany     82456111\n",
       "Russia     150876234\n",
       "USA        320876222\n",
       "dtype: int64"
      ]
     },
     "execution_count": 41,
     "metadata": {},
     "output_type": "execute_result"
    }
   ],
   "source": [
    "serie.loc[\"Germany\":\"USA\"]"
   ]
  },
  {
   "cell_type": "code",
   "execution_count": 42,
   "id": "823483be",
   "metadata": {},
   "outputs": [
    {
     "data": {
      "text/plain": [
       "Russia    150876234\n",
       "USA       320876222\n",
       "UK         62234987\n",
       "dtype: int64"
      ]
     },
     "execution_count": 42,
     "metadata": {},
     "output_type": "execute_result"
    }
   ],
   "source": [
    "serie.loc[\"Russia\":]"
   ]
  },
  {
   "cell_type": "code",
   "execution_count": 43,
   "id": "b1e5ecd5",
   "metadata": {},
   "outputs": [
    {
     "data": {
      "text/plain": [
       "Poland      38123456\n",
       "Germany     82456111\n",
       "Russia     150876234\n",
       "dtype: int64"
      ]
     },
     "execution_count": 43,
     "metadata": {},
     "output_type": "execute_result"
    }
   ],
   "source": [
    "serie.loc[:\"Russia\"]"
   ]
  },
  {
   "cell_type": "code",
   "execution_count": 45,
   "id": "f29fc700",
   "metadata": {},
   "outputs": [
    {
     "data": {
      "text/plain": [
       "Germany     82456111\n",
       "USA        320876222\n",
       "dtype: int64"
      ]
     },
     "execution_count": 45,
     "metadata": {},
     "output_type": "execute_result"
    }
   ],
   "source": [
    "serie.loc[\"Germany\"::2]"
   ]
  },
  {
   "cell_type": "code",
   "execution_count": 46,
   "id": "3b589fff",
   "metadata": {},
   "outputs": [
    {
     "data": {
      "text/plain": [
       "Poland     38123456\n",
       "USA       320876222\n",
       "dtype: int64"
      ]
     },
     "execution_count": 46,
     "metadata": {},
     "output_type": "execute_result"
    }
   ],
   "source": [
    "serie.loc[ [\"Poland\",'USA'] ]"
   ]
  },
  {
   "cell_type": "code",
   "execution_count": 48,
   "id": "5e7d6395",
   "metadata": {},
   "outputs": [
    {
     "data": {
      "text/plain": [
       "Germany     82456111\n",
       "Russia     150876234\n",
       "USA        320876222\n",
       "dtype: int64"
      ]
     },
     "execution_count": 48,
     "metadata": {},
     "output_type": "execute_result"
    }
   ],
   "source": [
    "serie.iloc[1:4]"
   ]
  },
  {
   "cell_type": "code",
   "execution_count": 52,
   "id": "02c0838f",
   "metadata": {},
   "outputs": [
    {
     "data": {
      "text/plain": [
       "USA       320876222\n",
       "Poland     38123456\n",
       "dtype: int64"
      ]
     },
     "execution_count": 52,
     "metadata": {},
     "output_type": "execute_result"
    }
   ],
   "source": [
    "serie.iloc[ [-2,0] ]"
   ]
  },
  {
   "cell_type": "code",
   "execution_count": null,
   "id": "a078a173",
   "metadata": {},
   "outputs": [],
   "source": []
  }
 ],
 "metadata": {
  "kernelspec": {
   "display_name": "Python 3",
   "language": "python",
   "name": "python3"
  },
  "language_info": {
   "codemirror_mode": {
    "name": "ipython",
    "version": 3
   },
   "file_extension": ".py",
   "mimetype": "text/x-python",
   "name": "python",
   "nbconvert_exporter": "python",
   "pygments_lexer": "ipython3",
   "version": "3.8.8"
  }
 },
 "nbformat": 4,
 "nbformat_minor": 5
}
