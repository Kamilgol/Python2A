{
 "cells": [
  {
   "cell_type": "code",
   "execution_count": 1,
   "id": "910dfbe5",
   "metadata": {},
   "outputs": [],
   "source": [
    "import pandas as pd"
   ]
  },
  {
   "cell_type": "code",
   "execution_count": 2,
   "id": "7206af6a",
   "metadata": {},
   "outputs": [
    {
     "data": {
      "text/html": [
       "<div>\n",
       "<style scoped>\n",
       "    .dataframe tbody tr th:only-of-type {\n",
       "        vertical-align: middle;\n",
       "    }\n",
       "\n",
       "    .dataframe tbody tr th {\n",
       "        vertical-align: top;\n",
       "    }\n",
       "\n",
       "    .dataframe thead th {\n",
       "        text-align: right;\n",
       "    }\n",
       "</style>\n",
       "<table border=\"1\" class=\"dataframe\">\n",
       "  <thead>\n",
       "    <tr style=\"text-align: right;\">\n",
       "      <th></th>\n",
       "      <th>Region</th>\n",
       "      <th>Country</th>\n",
       "      <th>Item Type</th>\n",
       "      <th>Sales Channel</th>\n",
       "      <th>Order Priority</th>\n",
       "      <th>Order Date</th>\n",
       "      <th>Order ID</th>\n",
       "      <th>Ship Date</th>\n",
       "      <th>Units Sold</th>\n",
       "      <th>Unit Price</th>\n",
       "      <th>Unit Cost</th>\n",
       "      <th>Total Revenue</th>\n",
       "      <th>Total Cost</th>\n",
       "      <th>Total Profit</th>\n",
       "    </tr>\n",
       "  </thead>\n",
       "  <tbody>\n",
       "    <tr>\n",
       "      <th>0</th>\n",
       "      <td>Sub-Saharan Africa</td>\n",
       "      <td>South Africa</td>\n",
       "      <td>Fruits</td>\n",
       "      <td>Offline</td>\n",
       "      <td>M</td>\n",
       "      <td>7/27/2012</td>\n",
       "      <td>443368995</td>\n",
       "      <td>7/28/2012</td>\n",
       "      <td>1593</td>\n",
       "      <td>9.33</td>\n",
       "      <td>6.92</td>\n",
       "      <td>14862.69</td>\n",
       "      <td>11023.56</td>\n",
       "      <td>3839.13</td>\n",
       "    </tr>\n",
       "    <tr>\n",
       "      <th>1</th>\n",
       "      <td>Middle East and North Africa</td>\n",
       "      <td>Morocco</td>\n",
       "      <td>Clothes</td>\n",
       "      <td>Online</td>\n",
       "      <td>M</td>\n",
       "      <td>9/14/2013</td>\n",
       "      <td>667593514</td>\n",
       "      <td>10/19/2013</td>\n",
       "      <td>4611</td>\n",
       "      <td>109.28</td>\n",
       "      <td>35.84</td>\n",
       "      <td>503890.08</td>\n",
       "      <td>165258.24</td>\n",
       "      <td>338631.84</td>\n",
       "    </tr>\n",
       "    <tr>\n",
       "      <th>2</th>\n",
       "      <td>Australia and Oceania</td>\n",
       "      <td>Papua New Guinea</td>\n",
       "      <td>Meat</td>\n",
       "      <td>Offline</td>\n",
       "      <td>M</td>\n",
       "      <td>5/15/2015</td>\n",
       "      <td>940995585</td>\n",
       "      <td>6/4/2015</td>\n",
       "      <td>360</td>\n",
       "      <td>421.89</td>\n",
       "      <td>364.69</td>\n",
       "      <td>151880.40</td>\n",
       "      <td>131288.40</td>\n",
       "      <td>20592.00</td>\n",
       "    </tr>\n",
       "    <tr>\n",
       "      <th>3</th>\n",
       "      <td>Sub-Saharan Africa</td>\n",
       "      <td>Djibouti</td>\n",
       "      <td>Clothes</td>\n",
       "      <td>Offline</td>\n",
       "      <td>H</td>\n",
       "      <td>5/17/2017</td>\n",
       "      <td>880811536</td>\n",
       "      <td>7/2/2017</td>\n",
       "      <td>562</td>\n",
       "      <td>109.28</td>\n",
       "      <td>35.84</td>\n",
       "      <td>61415.36</td>\n",
       "      <td>20142.08</td>\n",
       "      <td>41273.28</td>\n",
       "    </tr>\n",
       "    <tr>\n",
       "      <th>4</th>\n",
       "      <td>Europe</td>\n",
       "      <td>Slovakia</td>\n",
       "      <td>Beverages</td>\n",
       "      <td>Offline</td>\n",
       "      <td>L</td>\n",
       "      <td>10/26/2016</td>\n",
       "      <td>174590194</td>\n",
       "      <td>12/4/2016</td>\n",
       "      <td>3973</td>\n",
       "      <td>47.45</td>\n",
       "      <td>31.79</td>\n",
       "      <td>188518.85</td>\n",
       "      <td>126301.67</td>\n",
       "      <td>62217.18</td>\n",
       "    </tr>\n",
       "    <tr>\n",
       "      <th>5</th>\n",
       "      <td>Asia</td>\n",
       "      <td>Sri Lanka</td>\n",
       "      <td>Fruits</td>\n",
       "      <td>Online</td>\n",
       "      <td>L</td>\n",
       "      <td>11/7/2011</td>\n",
       "      <td>830192887</td>\n",
       "      <td>12/18/2011</td>\n",
       "      <td>1379</td>\n",
       "      <td>9.33</td>\n",
       "      <td>6.92</td>\n",
       "      <td>12866.07</td>\n",
       "      <td>9542.68</td>\n",
       "      <td>3323.39</td>\n",
       "    </tr>\n",
       "    <tr>\n",
       "      <th>6</th>\n",
       "      <td>Sub-Saharan Africa</td>\n",
       "      <td>Seychelles</td>\n",
       "      <td>Beverages</td>\n",
       "      <td>Online</td>\n",
       "      <td>M</td>\n",
       "      <td>1/18/2013</td>\n",
       "      <td>425793445</td>\n",
       "      <td>2/16/2013</td>\n",
       "      <td>597</td>\n",
       "      <td>47.45</td>\n",
       "      <td>31.79</td>\n",
       "      <td>28327.65</td>\n",
       "      <td>18978.63</td>\n",
       "      <td>9349.02</td>\n",
       "    </tr>\n",
       "    <tr>\n",
       "      <th>7</th>\n",
       "      <td>Sub-Saharan Africa</td>\n",
       "      <td>Tanzania</td>\n",
       "      <td>Beverages</td>\n",
       "      <td>Online</td>\n",
       "      <td>L</td>\n",
       "      <td>11/30/2016</td>\n",
       "      <td>659878194</td>\n",
       "      <td>1/16/2017</td>\n",
       "      <td>1476</td>\n",
       "      <td>47.45</td>\n",
       "      <td>31.79</td>\n",
       "      <td>70036.20</td>\n",
       "      <td>46922.04</td>\n",
       "      <td>23114.16</td>\n",
       "    </tr>\n",
       "    <tr>\n",
       "      <th>8</th>\n",
       "      <td>Sub-Saharan Africa</td>\n",
       "      <td>Ghana</td>\n",
       "      <td>Office Supplies</td>\n",
       "      <td>Online</td>\n",
       "      <td>L</td>\n",
       "      <td>3/23/2017</td>\n",
       "      <td>601245963</td>\n",
       "      <td>4/15/2017</td>\n",
       "      <td>896</td>\n",
       "      <td>651.21</td>\n",
       "      <td>524.96</td>\n",
       "      <td>583484.16</td>\n",
       "      <td>470364.16</td>\n",
       "      <td>113120.00</td>\n",
       "    </tr>\n",
       "    <tr>\n",
       "      <th>9</th>\n",
       "      <td>Sub-Saharan Africa</td>\n",
       "      <td>Tanzania</td>\n",
       "      <td>Cosmetics</td>\n",
       "      <td>Offline</td>\n",
       "      <td>L</td>\n",
       "      <td>5/23/2016</td>\n",
       "      <td>739008080</td>\n",
       "      <td>5/24/2016</td>\n",
       "      <td>7768</td>\n",
       "      <td>437.20</td>\n",
       "      <td>263.33</td>\n",
       "      <td>3396169.60</td>\n",
       "      <td>2045547.44</td>\n",
       "      <td>1350622.16</td>\n",
       "    </tr>\n",
       "  </tbody>\n",
       "</table>\n",
       "</div>"
      ],
      "text/plain": [
       "                         Region           Country        Item Type  \\\n",
       "0            Sub-Saharan Africa      South Africa           Fruits   \n",
       "1  Middle East and North Africa           Morocco          Clothes   \n",
       "2         Australia and Oceania  Papua New Guinea             Meat   \n",
       "3            Sub-Saharan Africa          Djibouti          Clothes   \n",
       "4                        Europe          Slovakia        Beverages   \n",
       "5                          Asia         Sri Lanka           Fruits   \n",
       "6            Sub-Saharan Africa       Seychelles         Beverages   \n",
       "7            Sub-Saharan Africa          Tanzania        Beverages   \n",
       "8            Sub-Saharan Africa             Ghana  Office Supplies   \n",
       "9            Sub-Saharan Africa          Tanzania        Cosmetics   \n",
       "\n",
       "  Sales Channel Order Priority  Order Date   Order ID   Ship Date  Units Sold  \\\n",
       "0       Offline              M   7/27/2012  443368995   7/28/2012        1593   \n",
       "1        Online              M   9/14/2013  667593514  10/19/2013        4611   \n",
       "2       Offline              M   5/15/2015  940995585    6/4/2015         360   \n",
       "3       Offline              H   5/17/2017  880811536    7/2/2017         562   \n",
       "4       Offline              L  10/26/2016  174590194   12/4/2016        3973   \n",
       "5        Online              L   11/7/2011  830192887  12/18/2011        1379   \n",
       "6        Online              M   1/18/2013  425793445   2/16/2013         597   \n",
       "7        Online              L  11/30/2016  659878194   1/16/2017        1476   \n",
       "8        Online              L   3/23/2017  601245963   4/15/2017         896   \n",
       "9       Offline              L   5/23/2016  739008080   5/24/2016        7768   \n",
       "\n",
       "   Unit Price  Unit Cost  Total Revenue  Total Cost  Total Profit  \n",
       "0        9.33       6.92       14862.69    11023.56       3839.13  \n",
       "1      109.28      35.84      503890.08   165258.24     338631.84  \n",
       "2      421.89     364.69      151880.40   131288.40      20592.00  \n",
       "3      109.28      35.84       61415.36    20142.08      41273.28  \n",
       "4       47.45      31.79      188518.85   126301.67      62217.18  \n",
       "5        9.33       6.92       12866.07     9542.68       3323.39  \n",
       "6       47.45      31.79       28327.65    18978.63       9349.02  \n",
       "7       47.45      31.79       70036.20    46922.04      23114.16  \n",
       "8      651.21     524.96      583484.16   470364.16     113120.00  \n",
       "9      437.20     263.33     3396169.60  2045547.44    1350622.16  "
      ]
     },
     "execution_count": 2,
     "metadata": {},
     "output_type": "execute_result"
    }
   ],
   "source": [
    "df = pd.read_csv(\"sales-records.csv\")\n",
    "df.head(10)"
   ]
  },
  {
   "cell_type": "code",
   "execution_count": 3,
   "id": "6e7a453b",
   "metadata": {},
   "outputs": [
    {
     "data": {
      "text/plain": [
       "(1000000, 14)"
      ]
     },
     "execution_count": 3,
     "metadata": {},
     "output_type": "execute_result"
    }
   ],
   "source": [
    "df.shape"
   ]
  },
  {
   "cell_type": "code",
   "execution_count": 4,
   "id": "5d23155a",
   "metadata": {},
   "outputs": [
    {
     "data": {
      "text/plain": [
       "Region             object\n",
       "Country            object\n",
       "Item Type          object\n",
       "Sales Channel      object\n",
       "Order Priority     object\n",
       "Order Date         object\n",
       "Order ID            int64\n",
       "Ship Date          object\n",
       "Units Sold          int64\n",
       "Unit Price        float64\n",
       "Unit Cost         float64\n",
       "Total Revenue     float64\n",
       "Total Cost        float64\n",
       "Total Profit      float64\n",
       "dtype: object"
      ]
     },
     "execution_count": 4,
     "metadata": {},
     "output_type": "execute_result"
    }
   ],
   "source": [
    "df.dtypes"
   ]
  },
  {
   "cell_type": "code",
   "execution_count": 7,
   "id": "b0c27da8",
   "metadata": {},
   "outputs": [
    {
     "data": {
      "text/plain": [
       "513707055"
      ]
     },
     "execution_count": 7,
     "metadata": {},
     "output_type": "execute_result"
    }
   ],
   "source": [
    "df.memory_usage(deep=True).sum()"
   ]
  },
  {
   "cell_type": "code",
   "execution_count": 8,
   "id": "cc663b9c",
   "metadata": {},
   "outputs": [
    {
     "data": {
      "text/plain": [
       "array(['Sub-Saharan Africa', 'Middle East and North Africa',\n",
       "       'Australia and Oceania', 'Europe', 'Asia',\n",
       "       'Central America and the Caribbean', 'North America'], dtype=object)"
      ]
     },
     "execution_count": 8,
     "metadata": {},
     "output_type": "execute_result"
    }
   ],
   "source": [
    "df.Region.unique()"
   ]
  },
  {
   "cell_type": "code",
   "execution_count": 9,
   "id": "7e406a19",
   "metadata": {},
   "outputs": [
    {
     "data": {
      "text/plain": [
       "array(['Offline', 'Online'], dtype=object)"
      ]
     },
     "execution_count": 9,
     "metadata": {},
     "output_type": "execute_result"
    }
   ],
   "source": [
    "df[\"Sales Channel\"].unique()"
   ]
  },
  {
   "cell_type": "code",
   "execution_count": 10,
   "id": "6a565fe3",
   "metadata": {},
   "outputs": [
    {
     "data": {
      "text/plain": [
       "Sub-Saharan Africa                   259953\n",
       "Europe                               259036\n",
       "Asia                                 146017\n",
       "Middle East and North Africa         124344\n",
       "Central America and the Caribbean    108042\n",
       "Australia and Oceania                 80837\n",
       "North America                         21771\n",
       "Name: Region, dtype: int64"
      ]
     },
     "execution_count": 10,
     "metadata": {},
     "output_type": "execute_result"
    }
   ],
   "source": [
    "df.Region.value_counts()"
   ]
  },
  {
   "cell_type": "code",
   "execution_count": 11,
   "id": "f47b03f4",
   "metadata": {},
   "outputs": [
    {
     "data": {
      "text/html": [
       "<div>\n",
       "<style scoped>\n",
       "    .dataframe tbody tr th:only-of-type {\n",
       "        vertical-align: middle;\n",
       "    }\n",
       "\n",
       "    .dataframe tbody tr th {\n",
       "        vertical-align: top;\n",
       "    }\n",
       "\n",
       "    .dataframe thead th {\n",
       "        text-align: right;\n",
       "    }\n",
       "</style>\n",
       "<table border=\"1\" class=\"dataframe\">\n",
       "  <thead>\n",
       "    <tr style=\"text-align: right;\">\n",
       "      <th></th>\n",
       "      <th>Order ID</th>\n",
       "      <th>Units Sold</th>\n",
       "      <th>Unit Price</th>\n",
       "      <th>Unit Cost</th>\n",
       "      <th>Total Revenue</th>\n",
       "      <th>Total Cost</th>\n",
       "      <th>Total Profit</th>\n",
       "    </tr>\n",
       "  </thead>\n",
       "  <tbody>\n",
       "    <tr>\n",
       "      <th>count</th>\n",
       "      <td>1.000000e+06</td>\n",
       "      <td>1000000.000000</td>\n",
       "      <td>1000000.000000</td>\n",
       "      <td>1000000.000000</td>\n",
       "      <td>1.000000e+06</td>\n",
       "      <td>1.000000e+06</td>\n",
       "      <td>1.000000e+06</td>\n",
       "    </tr>\n",
       "    <tr>\n",
       "      <th>mean</th>\n",
       "      <td>5.493520e+08</td>\n",
       "      <td>4998.867302</td>\n",
       "      <td>266.025488</td>\n",
       "      <td>187.522978</td>\n",
       "      <td>1.329563e+06</td>\n",
       "      <td>9.372671e+05</td>\n",
       "      <td>3.922956e+05</td>\n",
       "    </tr>\n",
       "    <tr>\n",
       "      <th>std</th>\n",
       "      <td>2.599397e+08</td>\n",
       "      <td>2885.334142</td>\n",
       "      <td>216.987966</td>\n",
       "      <td>175.650798</td>\n",
       "      <td>1.468527e+06</td>\n",
       "      <td>1.148954e+06</td>\n",
       "      <td>3.788199e+05</td>\n",
       "    </tr>\n",
       "    <tr>\n",
       "      <th>min</th>\n",
       "      <td>1.000012e+08</td>\n",
       "      <td>1.000000</td>\n",
       "      <td>9.330000</td>\n",
       "      <td>6.920000</td>\n",
       "      <td>9.330000e+00</td>\n",
       "      <td>6.920000e+00</td>\n",
       "      <td>2.410000e+00</td>\n",
       "    </tr>\n",
       "    <tr>\n",
       "      <th>25%</th>\n",
       "      <td>3.239629e+08</td>\n",
       "      <td>2502.000000</td>\n",
       "      <td>81.730000</td>\n",
       "      <td>35.840000</td>\n",
       "      <td>2.778672e+05</td>\n",
       "      <td>1.617289e+05</td>\n",
       "      <td>9.510480e+04</td>\n",
       "    </tr>\n",
       "    <tr>\n",
       "      <th>50%</th>\n",
       "      <td>5.486524e+08</td>\n",
       "      <td>4998.000000</td>\n",
       "      <td>154.060000</td>\n",
       "      <td>97.440000</td>\n",
       "      <td>7.844445e+05</td>\n",
       "      <td>4.667818e+05</td>\n",
       "      <td>2.810549e+05</td>\n",
       "    </tr>\n",
       "    <tr>\n",
       "      <th>75%</th>\n",
       "      <td>7.745981e+08</td>\n",
       "      <td>7496.000000</td>\n",
       "      <td>421.890000</td>\n",
       "      <td>263.330000</td>\n",
       "      <td>1.822444e+06</td>\n",
       "      <td>1.196327e+06</td>\n",
       "      <td>5.653076e+05</td>\n",
       "    </tr>\n",
       "    <tr>\n",
       "      <th>max</th>\n",
       "      <td>9.999999e+08</td>\n",
       "      <td>10000.000000</td>\n",
       "      <td>668.270000</td>\n",
       "      <td>524.960000</td>\n",
       "      <td>6.682700e+06</td>\n",
       "      <td>5.249600e+06</td>\n",
       "      <td>1.738700e+06</td>\n",
       "    </tr>\n",
       "  </tbody>\n",
       "</table>\n",
       "</div>"
      ],
      "text/plain": [
       "           Order ID      Units Sold      Unit Price       Unit Cost  \\\n",
       "count  1.000000e+06  1000000.000000  1000000.000000  1000000.000000   \n",
       "mean   5.493520e+08     4998.867302      266.025488      187.522978   \n",
       "std    2.599397e+08     2885.334142      216.987966      175.650798   \n",
       "min    1.000012e+08        1.000000        9.330000        6.920000   \n",
       "25%    3.239629e+08     2502.000000       81.730000       35.840000   \n",
       "50%    5.486524e+08     4998.000000      154.060000       97.440000   \n",
       "75%    7.745981e+08     7496.000000      421.890000      263.330000   \n",
       "max    9.999999e+08    10000.000000      668.270000      524.960000   \n",
       "\n",
       "       Total Revenue    Total Cost  Total Profit  \n",
       "count   1.000000e+06  1.000000e+06  1.000000e+06  \n",
       "mean    1.329563e+06  9.372671e+05  3.922956e+05  \n",
       "std     1.468527e+06  1.148954e+06  3.788199e+05  \n",
       "min     9.330000e+00  6.920000e+00  2.410000e+00  \n",
       "25%     2.778672e+05  1.617289e+05  9.510480e+04  \n",
       "50%     7.844445e+05  4.667818e+05  2.810549e+05  \n",
       "75%     1.822444e+06  1.196327e+06  5.653076e+05  \n",
       "max     6.682700e+06  5.249600e+06  1.738700e+06  "
      ]
     },
     "execution_count": 11,
     "metadata": {},
     "output_type": "execute_result"
    }
   ],
   "source": [
    "df.describe()"
   ]
  },
  {
   "cell_type": "code",
   "execution_count": 12,
   "id": "dd448633",
   "metadata": {},
   "outputs": [
    {
     "data": {
      "text/plain": [
       "array(['Fruits', 'Clothes', 'Meat', 'Beverages', 'Office Supplies',\n",
       "       'Cosmetics', 'Snacks', 'Personal Care', 'Household', 'Vegetables',\n",
       "       'Baby Food', 'Cereal'], dtype=object)"
      ]
     },
     "execution_count": 12,
     "metadata": {},
     "output_type": "execute_result"
    }
   ],
   "source": [
    "df[\"Item Type\"].unique()"
   ]
  },
  {
   "cell_type": "code",
   "execution_count": 13,
   "id": "19b0f467",
   "metadata": {},
   "outputs": [],
   "source": [
    "# konwersja na typ kategoryczny\n",
    "df[\"Region\"] = df[\"Region\"].astype(\"category\")\n",
    "df[\"Country\"] = df[\"Country\"].astype(\"category\")\n",
    "df[\"Item Type\"] = df[\"Item Type\"].astype(\"category\")\n",
    "df[\"Sales Channel\"] = df[\"Sales Channel\"].astype(\"category\")"
   ]
  },
  {
   "cell_type": "code",
   "execution_count": 15,
   "id": "2e21044b",
   "metadata": {},
   "outputs": [
    {
     "data": {
      "text/plain": [
       "250892326"
      ]
     },
     "execution_count": 15,
     "metadata": {},
     "output_type": "execute_result"
    }
   ],
   "source": [
    "df.memory_usage(deep=True).sum()"
   ]
  },
  {
   "cell_type": "code",
   "execution_count": 16,
   "id": "891350b7",
   "metadata": {
    "collapsed": true
   },
   "outputs": [
    {
     "data": {
      "text/html": [
       "<div>\n",
       "<style scoped>\n",
       "    .dataframe tbody tr th:only-of-type {\n",
       "        vertical-align: middle;\n",
       "    }\n",
       "\n",
       "    .dataframe tbody tr th {\n",
       "        vertical-align: top;\n",
       "    }\n",
       "\n",
       "    .dataframe thead th {\n",
       "        text-align: right;\n",
       "    }\n",
       "</style>\n",
       "<table border=\"1\" class=\"dataframe\">\n",
       "  <thead>\n",
       "    <tr style=\"text-align: right;\">\n",
       "      <th></th>\n",
       "      <th>Region</th>\n",
       "      <th>Country</th>\n",
       "      <th>Item Type</th>\n",
       "      <th>Sales Channel</th>\n",
       "      <th>Order Priority</th>\n",
       "      <th>Order Date</th>\n",
       "      <th>Order ID</th>\n",
       "      <th>Ship Date</th>\n",
       "      <th>Units Sold</th>\n",
       "      <th>Unit Price</th>\n",
       "      <th>Unit Cost</th>\n",
       "      <th>Total Revenue</th>\n",
       "      <th>Total Cost</th>\n",
       "      <th>Total Profit</th>\n",
       "    </tr>\n",
       "  </thead>\n",
       "  <tbody>\n",
       "    <tr>\n",
       "      <th>238</th>\n",
       "      <td>Europe</td>\n",
       "      <td>Poland</td>\n",
       "      <td>Clothes</td>\n",
       "      <td>Offline</td>\n",
       "      <td>M</td>\n",
       "      <td>3/6/2012</td>\n",
       "      <td>121681582</td>\n",
       "      <td>4/8/2012</td>\n",
       "      <td>7139</td>\n",
       "      <td>109.28</td>\n",
       "      <td>35.84</td>\n",
       "      <td>780149.92</td>\n",
       "      <td>255861.76</td>\n",
       "      <td>524288.16</td>\n",
       "    </tr>\n",
       "    <tr>\n",
       "      <th>389</th>\n",
       "      <td>Europe</td>\n",
       "      <td>Poland</td>\n",
       "      <td>Vegetables</td>\n",
       "      <td>Offline</td>\n",
       "      <td>L</td>\n",
       "      <td>11/28/2016</td>\n",
       "      <td>770592057</td>\n",
       "      <td>12/8/2016</td>\n",
       "      <td>4169</td>\n",
       "      <td>154.06</td>\n",
       "      <td>90.93</td>\n",
       "      <td>642276.14</td>\n",
       "      <td>379087.17</td>\n",
       "      <td>263188.97</td>\n",
       "    </tr>\n",
       "    <tr>\n",
       "      <th>488</th>\n",
       "      <td>Europe</td>\n",
       "      <td>Poland</td>\n",
       "      <td>Cereal</td>\n",
       "      <td>Offline</td>\n",
       "      <td>M</td>\n",
       "      <td>3/13/2015</td>\n",
       "      <td>579918754</td>\n",
       "      <td>3/13/2015</td>\n",
       "      <td>9701</td>\n",
       "      <td>205.70</td>\n",
       "      <td>117.11</td>\n",
       "      <td>1995495.70</td>\n",
       "      <td>1136084.11</td>\n",
       "      <td>859411.59</td>\n",
       "    </tr>\n",
       "    <tr>\n",
       "      <th>574</th>\n",
       "      <td>Europe</td>\n",
       "      <td>Poland</td>\n",
       "      <td>Baby Food</td>\n",
       "      <td>Online</td>\n",
       "      <td>M</td>\n",
       "      <td>4/24/2010</td>\n",
       "      <td>175219333</td>\n",
       "      <td>5/19/2010</td>\n",
       "      <td>149</td>\n",
       "      <td>255.28</td>\n",
       "      <td>159.42</td>\n",
       "      <td>38036.72</td>\n",
       "      <td>23753.58</td>\n",
       "      <td>14283.14</td>\n",
       "    </tr>\n",
       "    <tr>\n",
       "      <th>625</th>\n",
       "      <td>Europe</td>\n",
       "      <td>Poland</td>\n",
       "      <td>Cereal</td>\n",
       "      <td>Online</td>\n",
       "      <td>L</td>\n",
       "      <td>11/18/2010</td>\n",
       "      <td>119863259</td>\n",
       "      <td>12/23/2010</td>\n",
       "      <td>9057</td>\n",
       "      <td>205.70</td>\n",
       "      <td>117.11</td>\n",
       "      <td>1863024.90</td>\n",
       "      <td>1060665.27</td>\n",
       "      <td>802359.63</td>\n",
       "    </tr>\n",
       "    <tr>\n",
       "      <th>...</th>\n",
       "      <td>...</td>\n",
       "      <td>...</td>\n",
       "      <td>...</td>\n",
       "      <td>...</td>\n",
       "      <td>...</td>\n",
       "      <td>...</td>\n",
       "      <td>...</td>\n",
       "      <td>...</td>\n",
       "      <td>...</td>\n",
       "      <td>...</td>\n",
       "      <td>...</td>\n",
       "      <td>...</td>\n",
       "      <td>...</td>\n",
       "      <td>...</td>\n",
       "    </tr>\n",
       "    <tr>\n",
       "      <th>998958</th>\n",
       "      <td>Europe</td>\n",
       "      <td>Poland</td>\n",
       "      <td>Snacks</td>\n",
       "      <td>Online</td>\n",
       "      <td>M</td>\n",
       "      <td>8/13/2016</td>\n",
       "      <td>649437320</td>\n",
       "      <td>9/25/2016</td>\n",
       "      <td>1790</td>\n",
       "      <td>152.58</td>\n",
       "      <td>97.44</td>\n",
       "      <td>273118.20</td>\n",
       "      <td>174417.60</td>\n",
       "      <td>98700.60</td>\n",
       "    </tr>\n",
       "    <tr>\n",
       "      <th>999140</th>\n",
       "      <td>Europe</td>\n",
       "      <td>Poland</td>\n",
       "      <td>Fruits</td>\n",
       "      <td>Offline</td>\n",
       "      <td>C</td>\n",
       "      <td>9/25/2014</td>\n",
       "      <td>342612349</td>\n",
       "      <td>10/2/2014</td>\n",
       "      <td>5463</td>\n",
       "      <td>9.33</td>\n",
       "      <td>6.92</td>\n",
       "      <td>50969.79</td>\n",
       "      <td>37803.96</td>\n",
       "      <td>13165.83</td>\n",
       "    </tr>\n",
       "    <tr>\n",
       "      <th>999376</th>\n",
       "      <td>Europe</td>\n",
       "      <td>Poland</td>\n",
       "      <td>Household</td>\n",
       "      <td>Online</td>\n",
       "      <td>M</td>\n",
       "      <td>10/13/2010</td>\n",
       "      <td>131391608</td>\n",
       "      <td>10/25/2010</td>\n",
       "      <td>552</td>\n",
       "      <td>668.27</td>\n",
       "      <td>502.54</td>\n",
       "      <td>368885.04</td>\n",
       "      <td>277402.08</td>\n",
       "      <td>91482.96</td>\n",
       "    </tr>\n",
       "    <tr>\n",
       "      <th>999695</th>\n",
       "      <td>Europe</td>\n",
       "      <td>Poland</td>\n",
       "      <td>Personal Care</td>\n",
       "      <td>Online</td>\n",
       "      <td>H</td>\n",
       "      <td>1/11/2017</td>\n",
       "      <td>244104039</td>\n",
       "      <td>2/8/2017</td>\n",
       "      <td>4665</td>\n",
       "      <td>81.73</td>\n",
       "      <td>56.67</td>\n",
       "      <td>381270.45</td>\n",
       "      <td>264365.55</td>\n",
       "      <td>116904.90</td>\n",
       "    </tr>\n",
       "    <tr>\n",
       "      <th>999739</th>\n",
       "      <td>Europe</td>\n",
       "      <td>Poland</td>\n",
       "      <td>Office Supplies</td>\n",
       "      <td>Online</td>\n",
       "      <td>M</td>\n",
       "      <td>3/10/2012</td>\n",
       "      <td>434735715</td>\n",
       "      <td>3/12/2012</td>\n",
       "      <td>6814</td>\n",
       "      <td>651.21</td>\n",
       "      <td>524.96</td>\n",
       "      <td>4437344.94</td>\n",
       "      <td>3577077.44</td>\n",
       "      <td>860267.50</td>\n",
       "    </tr>\n",
       "  </tbody>\n",
       "</table>\n",
       "<p>5334 rows × 14 columns</p>\n",
       "</div>"
      ],
      "text/plain": [
       "        Region Country        Item Type Sales Channel Order Priority  \\\n",
       "238     Europe  Poland          Clothes       Offline              M   \n",
       "389     Europe  Poland       Vegetables       Offline              L   \n",
       "488     Europe  Poland           Cereal       Offline              M   \n",
       "574     Europe  Poland        Baby Food        Online              M   \n",
       "625     Europe  Poland           Cereal        Online              L   \n",
       "...        ...     ...              ...           ...            ...   \n",
       "998958  Europe  Poland           Snacks        Online              M   \n",
       "999140  Europe  Poland           Fruits       Offline              C   \n",
       "999376  Europe  Poland        Household        Online              M   \n",
       "999695  Europe  Poland    Personal Care        Online              H   \n",
       "999739  Europe  Poland  Office Supplies        Online              M   \n",
       "\n",
       "        Order Date   Order ID   Ship Date  Units Sold  Unit Price  Unit Cost  \\\n",
       "238       3/6/2012  121681582    4/8/2012        7139      109.28      35.84   \n",
       "389     11/28/2016  770592057   12/8/2016        4169      154.06      90.93   \n",
       "488      3/13/2015  579918754   3/13/2015        9701      205.70     117.11   \n",
       "574      4/24/2010  175219333   5/19/2010         149      255.28     159.42   \n",
       "625     11/18/2010  119863259  12/23/2010        9057      205.70     117.11   \n",
       "...            ...        ...         ...         ...         ...        ...   \n",
       "998958   8/13/2016  649437320   9/25/2016        1790      152.58      97.44   \n",
       "999140   9/25/2014  342612349   10/2/2014        5463        9.33       6.92   \n",
       "999376  10/13/2010  131391608  10/25/2010         552      668.27     502.54   \n",
       "999695   1/11/2017  244104039    2/8/2017        4665       81.73      56.67   \n",
       "999739   3/10/2012  434735715   3/12/2012        6814      651.21     524.96   \n",
       "\n",
       "        Total Revenue  Total Cost  Total Profit  \n",
       "238         780149.92   255861.76     524288.16  \n",
       "389         642276.14   379087.17     263188.97  \n",
       "488        1995495.70  1136084.11     859411.59  \n",
       "574          38036.72    23753.58      14283.14  \n",
       "625        1863024.90  1060665.27     802359.63  \n",
       "...               ...         ...           ...  \n",
       "998958      273118.20   174417.60      98700.60  \n",
       "999140       50969.79    37803.96      13165.83  \n",
       "999376      368885.04   277402.08      91482.96  \n",
       "999695      381270.45   264365.55     116904.90  \n",
       "999739     4437344.94  3577077.44     860267.50  \n",
       "\n",
       "[5334 rows x 14 columns]"
      ]
     },
     "execution_count": 16,
     "metadata": {},
     "output_type": "execute_result"
    }
   ],
   "source": [
    "df[ df.Country==\"Poland\" ]"
   ]
  },
  {
   "cell_type": "code",
   "execution_count": 17,
   "id": "6175b902",
   "metadata": {},
   "outputs": [
    {
     "data": {
      "text/plain": [
       "236892326"
      ]
     },
     "execution_count": 17,
     "metadata": {},
     "output_type": "execute_result"
    }
   ],
   "source": [
    " # konwersja kolumn numerycznych\n",
    "df[\"Units Sold\"] = df[\"Units Sold\"].astype(\"int16\")  \n",
    "df[\"Unit Price\"] = df[\"Unit Price\"].astype(\"float32\")  \n",
    "df[\"Unit Cost\"] = df[\"Unit Cost\"].astype(\"float32\")  \n",
    "df.memory_usage(deep=True).sum()"
   ]
  },
  {
   "cell_type": "code",
   "execution_count": 22,
   "id": "f178e3dc",
   "metadata": {},
   "outputs": [
    {
     "data": {
      "text/plain": [
       "121018632"
      ]
     },
     "execution_count": 22,
     "metadata": {},
     "output_type": "execute_result"
    }
   ],
   "source": [
    "df[\"Order Date\"] = pd.to_datetime(df[\"Order Date\"], format=\"%m/%d/%Y\", errors=\"coerce\")\n",
    "df[\"Ship Date\"] = pd.to_datetime(df[\"Ship Date\"], format=\"%m/%d/%Y\", errors=\"coerce\")\n",
    "df.memory_usage(deep=True).sum()"
   ]
  },
  {
   "cell_type": "code",
   "execution_count": 25,
   "id": "c8929d4e",
   "metadata": {},
   "outputs": [
    {
     "data": {
      "text/plain": [
       "Region                  category\n",
       "Country                 category\n",
       "Item Type               category\n",
       "Sales Channel           category\n",
       "Order Priority            object\n",
       "Order Date        datetime64[ns]\n",
       "Order ID                   int64\n",
       "Ship Date         datetime64[ns]\n",
       "Units Sold                 int16\n",
       "Unit Price               float32\n",
       "Unit Cost                float32\n",
       "Total Revenue            float64\n",
       "Total Cost               float64\n",
       "Total Profit             float64\n",
       "dtype: object"
      ]
     },
     "execution_count": 25,
     "metadata": {},
     "output_type": "execute_result"
    }
   ],
   "source": [
    "df.dtypes"
   ]
  },
  {
   "cell_type": "code",
   "execution_count": 26,
   "id": "41b42a88",
   "metadata": {},
   "outputs": [
    {
     "data": {
      "text/plain": [
       "C    250313\n",
       "L    250133\n",
       "H    249861\n",
       "M    249693\n",
       "Name: Order Priority, dtype: int64"
      ]
     },
     "execution_count": 26,
     "metadata": {},
     "output_type": "execute_result"
    }
   ],
   "source": [
    "df[\"Order Priority\"].value_counts()"
   ]
  },
  {
   "cell_type": "code",
   "execution_count": 27,
   "id": "5cdf282a",
   "metadata": {},
   "outputs": [
    {
     "data": {
      "text/plain": [
       "64019036"
      ]
     },
     "execution_count": 27,
     "metadata": {},
     "output_type": "execute_result"
    }
   ],
   "source": [
    "df[\"Order Priority\"] = df[\"Order Priority\"].astype(\"category\")\n",
    "df.memory_usage(deep=True).sum()"
   ]
  },
  {
   "cell_type": "code",
   "execution_count": null,
   "id": "51f9957c",
   "metadata": {},
   "outputs": [],
   "source": []
  }
 ],
 "metadata": {
  "kernelspec": {
   "display_name": "Python 3",
   "language": "python",
   "name": "python3"
  },
  "language_info": {
   "codemirror_mode": {
    "name": "ipython",
    "version": 3
   },
   "file_extension": ".py",
   "mimetype": "text/x-python",
   "name": "python",
   "nbconvert_exporter": "python",
   "pygments_lexer": "ipython3",
   "version": "3.8.8"
  }
 },
 "nbformat": 4,
 "nbformat_minor": 5
}
