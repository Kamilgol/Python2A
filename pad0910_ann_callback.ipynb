{
  "nbformat": 4,
  "nbformat_minor": 0,
  "metadata": {
    "colab": {
      "name": "pad0910-ann-callback.ipynb",
      "provenance": [],
      "authorship_tag": "ABX9TyNFP2BkaTGduiT5f0GQUhS+",
      "include_colab_link": true
    },
    "kernelspec": {
      "name": "python3",
      "display_name": "Python 3"
    },
    "language_info": {
      "name": "python"
    }
  },
  "cells": [
    {
      "cell_type": "markdown",
      "metadata": {
        "id": "view-in-github",
        "colab_type": "text"
      },
      "source": [
        "<a href=\"https://colab.research.google.com/github/Kamilgol/Python2A/blob/main/pad0910_ann_callback.ipynb\" target=\"_parent\"><img src=\"https://colab.research.google.com/assets/colab-badge.svg\" alt=\"Open In Colab\"/></a>"
      ]
    },
    {
      "cell_type": "code",
      "execution_count": 2,
      "metadata": {
        "id": "C7oQ0tKtwR4p"
      },
      "outputs": [],
      "source": [
        "import numpy as np\n",
        "import pandas as pd\n",
        "import matplotlib.pyplot as plt"
      ]
    },
    {
      "cell_type": "code",
      "source": [
        "#komponenty NN\n",
        "import tensorflow as tf\n",
        "from tensorflow.keras.models import Sequential\n",
        "from tensorflow.keras.layers import Dense, Flatten, Dropout\n",
        "from tensorflow.random import set_seed\n",
        "\n",
        "from tensorflow.keras.datasets.mnist import load_data"
      ],
      "metadata": {
        "id": "pFZEPfZayZ3u"
      },
      "execution_count": 7,
      "outputs": []
    },
    {
      "cell_type": "code",
      "source": [
        "import plotly.express as px\n",
        "import plotly.graph_objects as go\n",
        "from plotly.subplots import make_subplots"
      ],
      "metadata": {
        "id": "AGBEZkUkzi0u"
      },
      "execution_count": 8,
      "outputs": []
    },
    {
      "cell_type": "code",
      "source": [
        "(X_train,y_train),(X_test, y_test) = load_data()\n",
        "\n",
        "#normalizacja danych na zakresie 0-1\n",
        "X_train=X_train/255\n",
        "X_test=X_test/255"
      ],
      "metadata": {
        "id": "C8t7cpFE0IBY"
      },
      "execution_count": 12,
      "outputs": []
    },
    {
      "cell_type": "code",
      "source": [
        "X_test[0].shape"
      ],
      "metadata": {
        "colab": {
          "base_uri": "https://localhost:8080/"
        },
        "id": "woSdl-FB0TvW",
        "outputId": "5068bbaa-f58d-4953-bffc-727dcaf71f14"
      },
      "execution_count": 17,
      "outputs": [
        {
          "output_type": "execute_result",
          "data": {
            "text/plain": [
              "(28, 28)"
            ]
          },
          "metadata": {},
          "execution_count": 17
        }
      ]
    },
    {
      "cell_type": "code",
      "source": [
        "X_test.shape"
      ],
      "metadata": {
        "colab": {
          "base_uri": "https://localhost:8080/"
        },
        "id": "8Dv7DavR2Zp_",
        "outputId": "84f26e63-17b1-449c-d510-1a556dd9598d"
      },
      "execution_count": 19,
      "outputs": [
        {
          "output_type": "execute_result",
          "data": {
            "text/plain": [
              "(10000, 28, 28)"
            ]
          },
          "metadata": {},
          "execution_count": 19
        }
      ]
    },
    {
      "cell_type": "code",
      "source": [
        "#tworzenie ANN\n",
        "def create_ann():\n",
        "  #budowania sieci\n",
        "  model=Sequential()\n",
        "  model.add(Flatten(input_shape=(28,28)))\n",
        "  model.add(Dense(128,activation='relu'))\n",
        "  model.add(Dropout(0.2))\n",
        "  model.add(Dense(10,activation='softmax'))\n",
        "\n",
        "  #kompilacja sieci\n",
        "  model.compile(loss='sparse_categorical_crossentropy',metrics=['accuracy'])\n",
        "\n",
        "  return model"
      ],
      "metadata": {
        "id": "ZXeBfQ3z1IQ-"
      },
      "execution_count": 39,
      "outputs": []
    },
    {
      "cell_type": "code",
      "source": [
        "set_seed(0)\n",
        "\n",
        "model = create_ann()\n",
        "result=model.fit(X_train,y_train, epochs=10, validation_split=0.2)"
      ],
      "metadata": {
        "colab": {
          "base_uri": "https://localhost:8080/"
        },
        "id": "t2CwTW3f3t_-",
        "outputId": "32fa049b-c998-40a6-fd92-868614fb5057"
      },
      "execution_count": 40,
      "outputs": [
        {
          "output_type": "stream",
          "name": "stdout",
          "text": [
            "Epoch 1/10\n",
            "1500/1500 [==============================] - 5s 3ms/step - loss: 0.3201 - accuracy: 0.9075 - val_loss: 0.1590 - val_accuracy: 0.9546\n",
            "Epoch 2/10\n",
            "1500/1500 [==============================] - 4s 3ms/step - loss: 0.1614 - accuracy: 0.9526 - val_loss: 0.1213 - val_accuracy: 0.9664\n",
            "Epoch 3/10\n",
            "1500/1500 [==============================] - 4s 3ms/step - loss: 0.1296 - accuracy: 0.9630 - val_loss: 0.1077 - val_accuracy: 0.9704\n",
            "Epoch 4/10\n",
            "1500/1500 [==============================] - 4s 3ms/step - loss: 0.1121 - accuracy: 0.9683 - val_loss: 0.1035 - val_accuracy: 0.9719\n",
            "Epoch 5/10\n",
            "1500/1500 [==============================] - 4s 3ms/step - loss: 0.1009 - accuracy: 0.9715 - val_loss: 0.1052 - val_accuracy: 0.9724\n",
            "Epoch 6/10\n",
            "1500/1500 [==============================] - 4s 3ms/step - loss: 0.0954 - accuracy: 0.9735 - val_loss: 0.1070 - val_accuracy: 0.9736\n",
            "Epoch 7/10\n",
            "1500/1500 [==============================] - 4s 3ms/step - loss: 0.0884 - accuracy: 0.9762 - val_loss: 0.1062 - val_accuracy: 0.9746\n",
            "Epoch 8/10\n",
            "1500/1500 [==============================] - 4s 3ms/step - loss: 0.0828 - accuracy: 0.9772 - val_loss: 0.1053 - val_accuracy: 0.9754\n",
            "Epoch 9/10\n",
            "1500/1500 [==============================] - 4s 3ms/step - loss: 0.0788 - accuracy: 0.9791 - val_loss: 0.1079 - val_accuracy: 0.9741\n",
            "Epoch 10/10\n",
            "1500/1500 [==============================] - 4s 3ms/step - loss: 0.0772 - accuracy: 0.9795 - val_loss: 0.1129 - val_accuracy: 0.9762\n"
          ]
        }
      ]
    },
    {
      "cell_type": "code",
      "source": [
        "#zapis ANN do pliku\n",
        "model.save('ann.h5')"
      ],
      "metadata": {
        "id": "GWNmKy404pXU"
      },
      "execution_count": 42,
      "outputs": []
    },
    {
      "cell_type": "code",
      "source": [
        "#odtworzenie modeli sieci zmiennej\n",
        "model1=tf.keras.models.load_model(\"ann.h5\")"
      ],
      "metadata": {
        "id": "vRKve7-S8CHV"
      },
      "execution_count": 43,
      "outputs": []
    },
    {
      "cell_type": "code",
      "source": [
        "type(model1)"
      ],
      "metadata": {
        "colab": {
          "base_uri": "https://localhost:8080/"
        },
        "id": "FEWNfb0W8NV8",
        "outputId": "c17ec6fc-040e-49ef-ca8f-3a1804887af0"
      },
      "execution_count": 45,
      "outputs": [
        {
          "output_type": "execute_result",
          "data": {
            "text/plain": [
              "keras.engine.sequential.Sequential"
            ]
          },
          "metadata": {},
          "execution_count": 45
        }
      ]
    },
    {
      "cell_type": "code",
      "source": [
        "model1.summary()"
      ],
      "metadata": {
        "colab": {
          "base_uri": "https://localhost:8080/"
        },
        "id": "tm5xkgpx8O_k",
        "outputId": "e2c7afe6-5baa-4bfa-faef-83749468e26d"
      },
      "execution_count": 46,
      "outputs": [
        {
          "output_type": "stream",
          "name": "stdout",
          "text": [
            "Model: \"sequential_9\"\n",
            "_________________________________________________________________\n",
            " Layer (type)                Output Shape              Param #   \n",
            "=================================================================\n",
            " flatten_1 (Flatten)         (None, 784)               0         \n",
            "                                                                 \n",
            " dense_2 (Dense)             (None, 128)               100480    \n",
            "                                                                 \n",
            " dropout_1 (Dropout)         (None, 128)               0         \n",
            "                                                                 \n",
            " dense_3 (Dense)             (None, 10)                1290      \n",
            "                                                                 \n",
            "=================================================================\n",
            "Total params: 101,770\n",
            "Trainable params: 101,770\n",
            "Non-trainable params: 0\n",
            "_________________________________________________________________\n"
          ]
        }
      ]
    },
    {
      "cell_type": "markdown",
      "source": [
        "#Model checkpoint zapis modelu sieci w trakcie procesu uczenia"
      ],
      "metadata": {
        "id": "DeSs5eel9BkF"
      }
    },
    {
      "cell_type": "code",
      "source": [
        "from tensorflow.keras.callbacks import ModelCheckpoint"
      ],
      "metadata": {
        "id": "CcAyC87j8tbU"
      },
      "execution_count": 47,
      "outputs": []
    },
    {
      "cell_type": "code",
      "source": [
        "!rm -Rf checkpoint\n",
        "!mkdir checkpoint\n",
        "\n",
        "_filepath=\"checkpoint/ann-{epoch:03d}-{val_accuracy: .3f}.h5\"\n",
        "\n",
        "checkpoint=ModelCheckpoint(filepath=_filepath,monitor=\"val_loss\")\n"
      ],
      "metadata": {
        "id": "HQCFFUTv9Soi"
      },
      "execution_count": 74,
      "outputs": []
    },
    {
      "cell_type": "code",
      "source": [
        "model = create_ann()\n",
        "result=model.fit(X_train,y_train, epochs=10, validation_split=0.2, callbacks=[checkpoint])"
      ],
      "metadata": {
        "colab": {
          "base_uri": "https://localhost:8080/"
        },
        "id": "G6oEFBJR_xo5",
        "outputId": "516ad7c8-b30b-405a-8535-fb53df1aa3e7"
      },
      "execution_count": 75,
      "outputs": [
        {
          "output_type": "stream",
          "name": "stdout",
          "text": [
            "Epoch 1/10\n",
            "1500/1500 [==============================] - 5s 3ms/step - loss: 0.3229 - accuracy: 0.9064 - val_loss: 0.1675 - val_accuracy: 0.9514\n",
            "Epoch 2/10\n",
            "1500/1500 [==============================] - 4s 3ms/step - loss: 0.1663 - accuracy: 0.9504 - val_loss: 0.1338 - val_accuracy: 0.9612\n",
            "Epoch 3/10\n",
            "1500/1500 [==============================] - 4s 3ms/step - loss: 0.1336 - accuracy: 0.9622 - val_loss: 0.1119 - val_accuracy: 0.9677\n",
            "Epoch 4/10\n",
            "1500/1500 [==============================] - 4s 3ms/step - loss: 0.1154 - accuracy: 0.9673 - val_loss: 0.1048 - val_accuracy: 0.9709\n",
            "Epoch 5/10\n",
            "1500/1500 [==============================] - 4s 3ms/step - loss: 0.1035 - accuracy: 0.9715 - val_loss: 0.1085 - val_accuracy: 0.9706\n",
            "Epoch 6/10\n",
            "1500/1500 [==============================] - 4s 3ms/step - loss: 0.0932 - accuracy: 0.9739 - val_loss: 0.1068 - val_accuracy: 0.9736\n",
            "Epoch 7/10\n",
            "1500/1500 [==============================] - 4s 3ms/step - loss: 0.0880 - accuracy: 0.9759 - val_loss: 0.1117 - val_accuracy: 0.9735\n",
            "Epoch 8/10\n",
            "1500/1500 [==============================] - 4s 3ms/step - loss: 0.0836 - accuracy: 0.9770 - val_loss: 0.1084 - val_accuracy: 0.9748\n",
            "Epoch 9/10\n",
            "1500/1500 [==============================] - 4s 3ms/step - loss: 0.0799 - accuracy: 0.9779 - val_loss: 0.1064 - val_accuracy: 0.9749\n",
            "Epoch 10/10\n",
            "1500/1500 [==============================] - 4s 3ms/step - loss: 0.0744 - accuracy: 0.9802 - val_loss: 0.1112 - val_accuracy: 0.9756\n"
          ]
        }
      ]
    },
    {
      "cell_type": "markdown",
      "source": [
        "#Zapis tylko najlepszej wersji sieci"
      ],
      "metadata": {
        "id": "aoT67__lGoaj"
      }
    },
    {
      "cell_type": "code",
      "source": [
        "checkpoint=ModelCheckpoint(filepath=\"best-ann.h5\",monitor=\"val_accuracy\",save_best_only=True,verbose=1)\n",
        "\n",
        "model = create_ann()\n",
        "result=model.fit(X_train,y_train, epochs=10, validation_split=0.2, callbacks=[checkpoint])"
      ],
      "metadata": {
        "colab": {
          "base_uri": "https://localhost:8080/"
        },
        "id": "NphUIla1ALJz",
        "outputId": "f91755c7-a27b-4358-c2d3-d2ad66c7ece4"
      },
      "execution_count": 76,
      "outputs": [
        {
          "output_type": "stream",
          "name": "stdout",
          "text": [
            "Epoch 1/10\n",
            "1496/1500 [============================>.] - ETA: 0s - loss: 0.3241 - accuracy: 0.9053\n",
            "Epoch 00001: val_accuracy improved from -inf to 0.95542, saving model to best-ann.h5\n",
            "1500/1500 [==============================] - 4s 3ms/step - loss: 0.3237 - accuracy: 0.9055 - val_loss: 0.1598 - val_accuracy: 0.9554\n",
            "Epoch 2/10\n",
            "1496/1500 [============================>.] - ETA: 0s - loss: 0.1653 - accuracy: 0.9517\n",
            "Epoch 00002: val_accuracy improved from 0.95542 to 0.96267, saving model to best-ann.h5\n",
            "1500/1500 [==============================] - 4s 3ms/step - loss: 0.1654 - accuracy: 0.9517 - val_loss: 0.1332 - val_accuracy: 0.9627\n",
            "Epoch 3/10\n",
            "1492/1500 [============================>.] - ETA: 0s - loss: 0.1328 - accuracy: 0.9613\n",
            "Epoch 00003: val_accuracy improved from 0.96267 to 0.96767, saving model to best-ann.h5\n",
            "1500/1500 [==============================] - 4s 3ms/step - loss: 0.1330 - accuracy: 0.9613 - val_loss: 0.1142 - val_accuracy: 0.9677\n",
            "Epoch 4/10\n",
            "1495/1500 [============================>.] - ETA: 0s - loss: 0.1155 - accuracy: 0.9671\n",
            "Epoch 00004: val_accuracy improved from 0.96767 to 0.96950, saving model to best-ann.h5\n",
            "1500/1500 [==============================] - 4s 3ms/step - loss: 0.1153 - accuracy: 0.9671 - val_loss: 0.1125 - val_accuracy: 0.9695\n",
            "Epoch 5/10\n",
            "1493/1500 [============================>.] - ETA: 0s - loss: 0.1028 - accuracy: 0.9711\n",
            "Epoch 00005: val_accuracy improved from 0.96950 to 0.97025, saving model to best-ann.h5\n",
            "1500/1500 [==============================] - 4s 3ms/step - loss: 0.1028 - accuracy: 0.9710 - val_loss: 0.1101 - val_accuracy: 0.9703\n",
            "Epoch 6/10\n",
            "1487/1500 [============================>.] - ETA: 0s - loss: 0.0942 - accuracy: 0.9741\n",
            "Epoch 00006: val_accuracy improved from 0.97025 to 0.97225, saving model to best-ann.h5\n",
            "1500/1500 [==============================] - 4s 3ms/step - loss: 0.0941 - accuracy: 0.9741 - val_loss: 0.1123 - val_accuracy: 0.9722\n",
            "Epoch 7/10\n",
            "1487/1500 [============================>.] - ETA: 0s - loss: 0.0892 - accuracy: 0.9757\n",
            "Epoch 00007: val_accuracy improved from 0.97225 to 0.97308, saving model to best-ann.h5\n",
            "1500/1500 [==============================] - 4s 3ms/step - loss: 0.0892 - accuracy: 0.9756 - val_loss: 0.1089 - val_accuracy: 0.9731\n",
            "Epoch 8/10\n",
            "1490/1500 [============================>.] - ETA: 0s - loss: 0.0858 - accuracy: 0.9773\n",
            "Epoch 00008: val_accuracy improved from 0.97308 to 0.97500, saving model to best-ann.h5\n",
            "1500/1500 [==============================] - 4s 3ms/step - loss: 0.0854 - accuracy: 0.9774 - val_loss: 0.1081 - val_accuracy: 0.9750\n",
            "Epoch 9/10\n",
            "1485/1500 [============================>.] - ETA: 0s - loss: 0.0810 - accuracy: 0.9785\n",
            "Epoch 00009: val_accuracy did not improve from 0.97500\n",
            "1500/1500 [==============================] - 4s 3ms/step - loss: 0.0812 - accuracy: 0.9784 - val_loss: 0.1157 - val_accuracy: 0.9739\n",
            "Epoch 10/10\n",
            "1495/1500 [============================>.] - ETA: 0s - loss: 0.0782 - accuracy: 0.9797\n",
            "Epoch 00010: val_accuracy improved from 0.97500 to 0.97550, saving model to best-ann.h5\n",
            "1500/1500 [==============================] - 4s 3ms/step - loss: 0.0784 - accuracy: 0.9796 - val_loss: 0.1145 - val_accuracy: 0.9755\n"
          ]
        }
      ]
    },
    {
      "cell_type": "markdown",
      "source": [
        "#Early stopping"
      ],
      "metadata": {
        "id": "JMko8fjWIQDq"
      }
    },
    {
      "cell_type": "code",
      "source": [
        "from tensorflow.keras.callbacks import EarlyStopping"
      ],
      "metadata": {
        "id": "ohcXC6zUH_lz"
      },
      "execution_count": 77,
      "outputs": []
    },
    {
      "cell_type": "code",
      "source": [
        "es=EarlyStopping(monitor='val_loss',verbose=1, min_delta=0.02, patience=3)\n",
        "\n",
        "model = create_ann()\n",
        "result=model.fit(X_train,y_train, epochs=10, validation_split=0.2, callbacks=[es])"
      ],
      "metadata": {
        "colab": {
          "base_uri": "https://localhost:8080/",
          "height": 455
        },
        "id": "YOi64CXiIY2B",
        "outputId": "9aae5732-f95a-4b08-bde6-b140dc6b2abd"
      },
      "execution_count": null,
      "outputs": [
        {
          "output_type": "stream",
          "name": "stdout",
          "text": [
            "Epoch 1/10\n"
          ]
        },
        {
          "output_type": "error",
          "ename": "KeyboardInterrupt",
          "evalue": "ignored",
          "traceback": [
            "\u001b[0;31m---------------------------------------------------------------------------\u001b[0m",
            "\u001b[0;31mKeyboardInterrupt\u001b[0m                         Traceback (most recent call last)",
            "\u001b[0;32m/usr/local/lib/python3.7/dist-packages/zmq/backend/cython/checkrc.pxd\u001b[0m in \u001b[0;36mzmq.backend.cython.checkrc._check_rc\u001b[0;34m()\u001b[0m\n",
            "\u001b[0;31mKeyboardInterrupt\u001b[0m: "
          ]
        },
        {
          "output_type": "stream",
          "name": "stderr",
          "text": [
            "Exception ignored in: 'zmq.backend.cython.message.Frame.__dealloc__'\n",
            "Traceback (most recent call last):\n",
            "  File \"zmq/backend/cython/checkrc.pxd\", line 13, in zmq.backend.cython.checkrc._check_rc\n",
            "KeyboardInterrupt\n"
          ]
        },
        {
          "output_type": "error",
          "ename": "KeyboardInterrupt",
          "evalue": "ignored",
          "traceback": [
            "\u001b[0;31m---------------------------------------------------------------------------\u001b[0m",
            "\u001b[0;31mKeyboardInterrupt\u001b[0m                         Traceback (most recent call last)",
            "\u001b[0;32m/usr/local/lib/python3.7/dist-packages/zmq/backend/cython/checkrc.pxd\u001b[0m in \u001b[0;36mzmq.backend.cython.checkrc._check_rc\u001b[0;34m()\u001b[0m\n",
            "\u001b[0;31mKeyboardInterrupt\u001b[0m: "
          ]
        },
        {
          "output_type": "stream",
          "name": "stderr",
          "text": [
            "Exception ignored in: 'zmq.backend.cython.message.Frame.__dealloc__'\n",
            "Traceback (most recent call last):\n",
            "  File \"zmq/backend/cython/checkrc.pxd\", line 13, in zmq.backend.cython.checkrc._check_rc\n",
            "KeyboardInterrupt\n"
          ]
        }
      ]
    },
    {
      "cell_type": "code",
      "source": [
        ""
      ],
      "metadata": {
        "colab": {
          "base_uri": "https://localhost:8080/"
        },
        "id": "8-7eJQ17JZsJ",
        "outputId": "57f68199-dc1f-4920-a077-5c5d3c6ee7a0"
      },
      "execution_count": 79,
      "outputs": [
        {
          "output_type": "execute_result",
          "data": {
            "text/plain": [
              "<keras.callbacks.EarlyStopping at 0x7fd91cd00850>"
            ]
          },
          "metadata": {},
          "execution_count": 79
        }
      ]
    },
    {
      "cell_type": "code",
      "source": [
        ""
      ],
      "metadata": {
        "id": "cK_QidqrJbMA"
      },
      "execution_count": null,
      "outputs": []
    }
  ]
}