{
  "nbformat": 4,
  "nbformat_minor": 0,
  "metadata": {
    "colab": {
      "name": "pad0910-sn-03.ipynb",
      "provenance": [],
      "collapsed_sections": []
    },
    "kernelspec": {
      "name": "python3",
      "display_name": "Python 3"
    },
    "language_info": {
      "name": "python"
    }
  },
  "cells": [
    {
      "cell_type": "code",
      "execution_count": 12,
      "metadata": {
        "id": "5TDEpk4T2EdC"
      },
      "outputs": [],
      "source": [
        "import numpy as np\n",
        "import pandas as pd\n",
        "import matplotlib.pyplot as plt\n",
        "import seaborn as sns"
      ]
    },
    {
      "cell_type": "code",
      "source": [
        "# komponenty do budowy sieci\n",
        "from tensorflow.keras.models import Sequential\n",
        "from tensorflow.keras.layers import Dense, Flatten, Dropout\n",
        "from tensorflow.random import set_seed\n",
        "from tensorflow.keras.datasets.mnist import load_data\n"
      ],
      "metadata": {
        "id": "IBpX_TQw3g4j"
      },
      "execution_count": 13,
      "outputs": []
    },
    {
      "cell_type": "code",
      "source": [
        "set_seed(0)"
      ],
      "metadata": {
        "id": "cWMrQ7Ak37Rr"
      },
      "execution_count": 14,
      "outputs": []
    },
    {
      "cell_type": "code",
      "source": [
        "(X_train, y_train) , (X_test, y_test) = load_data()\n",
        "\n",
        "X_train = X_train / 255\n",
        "X_test = X_test / 255"
      ],
      "metadata": {
        "id": "vdRtA-NI3-td"
      },
      "execution_count": 15,
      "outputs": []
    },
    {
      "cell_type": "code",
      "source": [
        "X_train.shape , X_test.shape"
      ],
      "metadata": {
        "colab": {
          "base_uri": "https://localhost:8080/"
        },
        "id": "763Zhz0o4Z-3",
        "outputId": "83611ab3-162c-4c31-d36b-ece360d50873"
      },
      "execution_count": 16,
      "outputs": [
        {
          "output_type": "execute_result",
          "data": {
            "text/plain": [
              "((60000, 28, 28), (10000, 28, 28))"
            ]
          },
          "metadata": {},
          "execution_count": 16
        }
      ]
    },
    {
      "cell_type": "code",
      "source": [
        "plt.imshow(X_train[10], cmap='gray_r')"
      ],
      "metadata": {
        "colab": {
          "base_uri": "https://localhost:8080/",
          "height": 282
        },
        "id": "9c1SbiUg4gbu",
        "outputId": "6c3363ae-4874-4903-f897-4293052786bc"
      },
      "execution_count": 17,
      "outputs": [
        {
          "output_type": "execute_result",
          "data": {
            "text/plain": [
              "<matplotlib.image.AxesImage at 0x7f481f3db4d0>"
            ]
          },
          "metadata": {},
          "execution_count": 17
        },
        {
          "output_type": "display_data",
          "data": {
            "image/png": "[encoded data removed]",
            "text/plain": [
              "<Figure size 432x288 with 1 Axes>"
            ]
          },
          "metadata": {
            "needs_background": "light"
          }
        }
      ]
    },
    {
      "cell_type": "code",
      "source": [
        "y_train[10]"
      ],
      "metadata": {
        "colab": {
          "base_uri": "https://localhost:8080/"
        },
        "id": "LpnDp5oW5TsD",
        "outputId": "ac70bba4-6171-4ff4-81d0-aebb0e77e15f"
      },
      "execution_count": 18,
      "outputs": [
        {
          "output_type": "execute_result",
          "data": {
            "text/plain": [
              "3"
            ]
          },
          "metadata": {},
          "execution_count": 18
        }
      ]
    },
    {
      "cell_type": "code",
      "source": [
        "model = Sequential()\n",
        "\n",
        "model.add( Flatten(input_shape=(28,28)) ) # adapter danych zewnętrznych\n",
        "\n",
        "model.add( Dense(128, activation=\"relu\") )\n",
        "#model.add( Dropout(0.1))\n",
        "model.add( Dense(256, activation=\"relu\") )\n",
        "model.add( Dense(10, activation=\"softmax\") )\n",
        "\n",
        "model.compile(loss=\"sparse_categorical_crossentropy\", metrics=\"accuracy\")\n",
        "\n",
        "result = model.fit(X_train, y_train, epochs=10, validation_split=0.05)"
      ],
      "metadata": {
        "colab": {
          "base_uri": "https://localhost:8080/"
        },
        "id": "gpQ4lILF5dUQ",
        "outputId": "3623b426-1828-494a-c5be-d062876b4cc2"
      },
      "execution_count": 30,
      "outputs": [
        {
          "output_type": "stream",
          "name": "stdout",
          "text": [
            "Epoch 1/10\n",
            "1782/1782 [==============================] - 5s 3ms/step - loss: 0.2241 - accuracy: 0.9329 - val_loss: 0.1068 - val_accuracy: 0.9690\n",
            "Epoch 2/10\n",
            "1782/1782 [==============================] - 5s 3ms/step - loss: 0.1047 - accuracy: 0.9693 - val_loss: 0.0875 - val_accuracy: 0.9800\n",
            "Epoch 3/10\n",
            "1782/1782 [==============================] - 5s 3ms/step - loss: 0.0779 - accuracy: 0.9782 - val_loss: 0.1021 - val_accuracy: 0.9793\n",
            "Epoch 4/10\n",
            "1782/1782 [==============================] - 5s 3ms/step - loss: 0.0633 - accuracy: 0.9821 - val_loss: 0.0958 - val_accuracy: 0.9797\n",
            "Epoch 5/10\n",
            "1782/1782 [==============================] - 5s 3ms/step - loss: 0.0540 - accuracy: 0.9855 - val_loss: 0.1093 - val_accuracy: 0.9797\n",
            "Epoch 6/10\n",
            "1782/1782 [==============================] - 5s 3ms/step - loss: 0.0467 - accuracy: 0.9870 - val_loss: 0.1265 - val_accuracy: 0.9813\n",
            "Epoch 7/10\n",
            "1782/1782 [==============================] - 5s 3ms/step - loss: 0.0407 - accuracy: 0.9897 - val_loss: 0.1173 - val_accuracy: 0.9777\n",
            "Epoch 8/10\n",
            "1782/1782 [==============================] - 5s 3ms/step - loss: 0.0387 - accuracy: 0.9906 - val_loss: 0.1338 - val_accuracy: 0.9777\n",
            "Epoch 9/10\n",
            "1782/1782 [==============================] - 5s 3ms/step - loss: 0.0337 - accuracy: 0.9915 - val_loss: 0.1612 - val_accuracy: 0.9787\n",
            "Epoch 10/10\n",
            "1782/1782 [==============================] - 5s 3ms/step - loss: 0.0300 - accuracy: 0.9925 - val_loss: 0.1484 - val_accuracy: 0.9837\n"
          ]
        }
      ]
    },
    {
      "cell_type": "code",
      "source": [
        "from sklearn.metrics import confusion_matrix, accuracy_score"
      ],
      "metadata": {
        "id": "dFZkXPu--cJq"
      },
      "execution_count": 31,
      "outputs": []
    },
    {
      "cell_type": "code",
      "source": [
        "y_pred = np.argmax( model.predict(X_test), axis=-1)"
      ],
      "metadata": {
        "id": "fu-Zoc-SFAMP"
      },
      "execution_count": 32,
      "outputs": []
    },
    {
      "cell_type": "code",
      "source": [
        "pd.DataFrame( confusion_matrix(y_test, y_pred) )"
      ],
      "metadata": {
        "colab": {
          "base_uri": "https://localhost:8080/",
          "height": 363
        },
        "id": "26m6HwxCFJF6",
        "outputId": "ae0fa07b-05b0-4655-d730-4f0bb9401702"
      },
      "execution_count": 33,
      "outputs": [
        {
          "output_type": "execute_result",
          "data": {
            "text/html": [
              "<div>\n",
              "<style scoped>\n",
              "    .dataframe tbody tr th:only-of-type {\n",
              "        vertical-align: middle;\n",
              "    }\n",
              "\n",
              "    .dataframe tbody tr th {\n",
              "        vertical-align: top;\n",
              "    }\n",
              "\n",
              "    .dataframe thead th {\n",
              "        text-align: right;\n",
              "    }\n",
              "</style>\n",
              "<table border=\"1\" class=\"dataframe\">\n",
              "  <thead>\n",
              "    <tr style=\"text-align: right;\">\n",
              "      <th></th>\n",
              "      <th>0</th>\n",
              "      <th>1</th>\n",
              "      <th>2</th>\n",
              "      <th>3</th>\n",
              "      <th>4</th>\n",
              "      <th>5</th>\n",
              "      <th>6</th>\n",
              "      <th>7</th>\n",
              "      <th>8</th>\n",
              "      <th>9</th>\n",
              "    </tr>\n",
              "  </thead>\n",
              "  <tbody>\n",
              "    <tr>\n",
              "      <th>0</th>\n",
              "      <td>973</td>\n",
              "      <td>1</td>\n",
              "      <td>0</td>\n",
              "      <td>1</td>\n",
              "      <td>0</td>\n",
              "      <td>0</td>\n",
              "      <td>3</td>\n",
              "      <td>1</td>\n",
              "      <td>1</td>\n",
              "      <td>0</td>\n",
              "    </tr>\n",
              "    <tr>\n",
              "      <th>1</th>\n",
              "      <td>4</td>\n",
              "      <td>1123</td>\n",
              "      <td>3</td>\n",
              "      <td>2</td>\n",
              "      <td>0</td>\n",
              "      <td>0</td>\n",
              "      <td>1</td>\n",
              "      <td>0</td>\n",
              "      <td>2</td>\n",
              "      <td>0</td>\n",
              "    </tr>\n",
              "    <tr>\n",
              "      <th>2</th>\n",
              "      <td>5</td>\n",
              "      <td>1</td>\n",
              "      <td>994</td>\n",
              "      <td>9</td>\n",
              "      <td>4</td>\n",
              "      <td>0</td>\n",
              "      <td>1</td>\n",
              "      <td>7</td>\n",
              "      <td>10</td>\n",
              "      <td>1</td>\n",
              "    </tr>\n",
              "    <tr>\n",
              "      <th>3</th>\n",
              "      <td>2</td>\n",
              "      <td>0</td>\n",
              "      <td>1</td>\n",
              "      <td>990</td>\n",
              "      <td>0</td>\n",
              "      <td>8</td>\n",
              "      <td>0</td>\n",
              "      <td>3</td>\n",
              "      <td>3</td>\n",
              "      <td>3</td>\n",
              "    </tr>\n",
              "    <tr>\n",
              "      <th>4</th>\n",
              "      <td>2</td>\n",
              "      <td>0</td>\n",
              "      <td>4</td>\n",
              "      <td>0</td>\n",
              "      <td>967</td>\n",
              "      <td>0</td>\n",
              "      <td>2</td>\n",
              "      <td>1</td>\n",
              "      <td>0</td>\n",
              "      <td>6</td>\n",
              "    </tr>\n",
              "    <tr>\n",
              "      <th>5</th>\n",
              "      <td>2</td>\n",
              "      <td>0</td>\n",
              "      <td>0</td>\n",
              "      <td>4</td>\n",
              "      <td>1</td>\n",
              "      <td>871</td>\n",
              "      <td>6</td>\n",
              "      <td>0</td>\n",
              "      <td>4</td>\n",
              "      <td>4</td>\n",
              "    </tr>\n",
              "    <tr>\n",
              "      <th>6</th>\n",
              "      <td>7</td>\n",
              "      <td>2</td>\n",
              "      <td>0</td>\n",
              "      <td>1</td>\n",
              "      <td>10</td>\n",
              "      <td>3</td>\n",
              "      <td>930</td>\n",
              "      <td>0</td>\n",
              "      <td>5</td>\n",
              "      <td>0</td>\n",
              "    </tr>\n",
              "    <tr>\n",
              "      <th>7</th>\n",
              "      <td>2</td>\n",
              "      <td>2</td>\n",
              "      <td>5</td>\n",
              "      <td>2</td>\n",
              "      <td>0</td>\n",
              "      <td>0</td>\n",
              "      <td>0</td>\n",
              "      <td>1009</td>\n",
              "      <td>2</td>\n",
              "      <td>6</td>\n",
              "    </tr>\n",
              "    <tr>\n",
              "      <th>8</th>\n",
              "      <td>9</td>\n",
              "      <td>0</td>\n",
              "      <td>2</td>\n",
              "      <td>2</td>\n",
              "      <td>2</td>\n",
              "      <td>6</td>\n",
              "      <td>2</td>\n",
              "      <td>5</td>\n",
              "      <td>940</td>\n",
              "      <td>6</td>\n",
              "    </tr>\n",
              "    <tr>\n",
              "      <th>9</th>\n",
              "      <td>1</td>\n",
              "      <td>3</td>\n",
              "      <td>0</td>\n",
              "      <td>1</td>\n",
              "      <td>7</td>\n",
              "      <td>3</td>\n",
              "      <td>0</td>\n",
              "      <td>2</td>\n",
              "      <td>2</td>\n",
              "      <td>990</td>\n",
              "    </tr>\n",
              "  </tbody>\n",
              "</table>\n",
              "</div>"
            ],
            "text/plain": [
              "     0     1    2    3    4    5    6     7    8    9\n",
              "0  973     1    0    1    0    0    3     1    1    0\n",
              "1    4  1123    3    2    0    0    1     0    2    0\n",
              "2    5     1  994    9    4    0    1     7   10    1\n",
              "3    2     0    1  990    0    8    0     3    3    3\n",
              "4    2     0    4    0  967    0    2     1    0    6\n",
              "5    2     0    0    4    1  871    6     0    4    4\n",
              "6    7     2    0    1   10    3  930     0    5    0\n",
              "7    2     2    5    2    0    0    0  1009    2    6\n",
              "8    9     0    2    2    2    6    2     5  940    6\n",
              "9    1     3    0    1    7    3    0     2    2  990"
            ]
          },
          "metadata": {},
          "execution_count": 33
        }
      ]
    },
    {
      "cell_type": "code",
      "source": [
        "accuracy_score(y_test, y_pred)"
      ],
      "metadata": {
        "colab": {
          "base_uri": "https://localhost:8080/"
        },
        "id": "MrcpcNsJF1i1",
        "outputId": "9591b71d-7992-4cb9-e786-721ff4a1e81d"
      },
      "execution_count": 34,
      "outputs": [
        {
          "output_type": "execute_result",
          "data": {
            "text/plain": [
              "0.9787"
            ]
          },
          "metadata": {},
          "execution_count": 34
        }
      ]
    },
    {
      "cell_type": "code",
      "source": [
        "# walidacja przesunietego obrazka (grafiki)\n",
        "np.set_printoptions(linewidth=160)\n",
        "arr1 =(X_train[20]*255).astype('int')\n",
        "arr1 = arr1[4:-3 , 3:-5]\n",
        "arr1"
      ],
      "metadata": {
        "id": "0jZkx_x2HYfy"
      },
      "execution_count": null,
      "outputs": []
    },
    {
      "cell_type": "code",
      "source": [
        "arr2 = np.hstack( [arr1, np.zeros([21,8]).astype('int')] )\n",
        "arr2 = np.vstack( [arr2, np.zeros([7,28]).astype('int')] )\n",
        "arr2"
      ],
      "metadata": {
        "id": "FBmFofYgIuKF"
      },
      "execution_count": null,
      "outputs": []
    },
    {
      "cell_type": "code",
      "source": [
        "np.argmax( model.predict( (arr2/255).reshape(1, 28, 28) ) )"
      ],
      "metadata": {
        "colab": {
          "base_uri": "https://localhost:8080/"
        },
        "id": "jBUu7gXMKRwE",
        "outputId": "f4434550-92c6-4258-e731-8eaed487e3b0"
      },
      "execution_count": 50,
      "outputs": [
        {
          "output_type": "execute_result",
          "data": {
            "text/plain": [
              "1"
            ]
          },
          "metadata": {},
          "execution_count": 50
        }
      ]
    },
    {
      "cell_type": "code",
      "source": [
        ""
      ],
      "metadata": {
        "id": "uz4o0Qp1K8MV"
      },
      "execution_count": null,
      "outputs": []
    }
  ]
}