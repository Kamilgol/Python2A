{
 "cells": [
  {
   "cell_type": "code",
   "execution_count": 3,
   "id": "7c9a3108",
   "metadata": {},
   "outputs": [],
   "source": [
    "import numpy as np\n",
    "import pandas as pd\n",
    "import matplotlib.pyplot as plt"
   ]
  },
  {
   "cell_type": "code",
   "execution_count": 4,
   "id": "c435309d",
   "metadata": {},
   "outputs": [],
   "source": [
    "np.random.seed(0)\n",
    "N = 1_000_000"
   ]
  },
  {
   "cell_type": "markdown",
   "id": "f9f1f12a",
   "metadata": {},
   "source": [
    "### Generowanie rozkładu normalnego"
   ]
  },
  {
   "cell_type": "code",
   "execution_count": 5,
   "id": "36260ac0",
   "metadata": {},
   "outputs": [],
   "source": [
    "data = np.random.randn(N)"
   ]
  },
  {
   "cell_type": "code",
   "execution_count": 6,
   "id": "4b0868de",
   "metadata": {},
   "outputs": [
    {
     "data": {
      "text/plain": [
       "(0.0015121465155362318, 0.002387730826572747, 0.9999213260166574)"
      ]
     },
     "execution_count": 6,
     "metadata": {},
     "output_type": "execute_result"
    }
   ],
   "source": [
    "np.mean(data), np.median(data), np.std(data)"
   ]
  },
  {
   "cell_type": "code",
   "execution_count": 7,
   "id": "f1371e2f",
   "metadata": {},
   "outputs": [
    {
     "data": {
      "image/png": "[encoded data removed]",
      "text/plain": [
       "<Figure size 864x432 with 1 Axes>"
      ]
     },
     "metadata": {
      "needs_background": "light"
     },
     "output_type": "display_data"
    }
   ],
   "source": [
    "plt.figure(figsize=(12,6))\n",
    "plt.hist(data, color='red', bins=50)\n",
    "plt.axvline( np.mean(data), color=\"black\" )\n",
    "plt.axvline( np.mean(data)+np.std(data), color=\"green\" ); plt.axvline( np.mean(data)-np.std(data), color=\"green\" )\n",
    "plt.axvline( np.mean(data)+2*np.std(data), color=\"yellow\" ); plt.axvline( np.mean(data)-2*np.std(data), color=\"yellow\" )\n",
    "plt.axvline( np.mean(data)+3*np.std(data), color=\"magenta\" ); plt.axvline( np.mean(data)-3*np.std(data), color=\"magenta\" )\n",
    "plt.show()"
   ]
  },
  {
   "cell_type": "code",
   "execution_count": 8,
   "id": "a02aa75e",
   "metadata": {},
   "outputs": [
    {
     "data": {
      "text/plain": [
       "68.28"
      ]
     },
     "execution_count": 8,
     "metadata": {},
     "output_type": "execute_result"
    }
   ],
   "source": [
    "#liczba próbek w odległości +/- 1std\n",
    "len( data[ (data>=data.mean()-1*data.std())&(data<=data.mean()+1*data.std()) ] ) / N * 100"
   ]
  },
  {
   "cell_type": "code",
   "execution_count": 9,
   "id": "79786099",
   "metadata": {},
   "outputs": [
    {
     "data": {
      "text/plain": [
       "95.4563"
      ]
     },
     "execution_count": 9,
     "metadata": {},
     "output_type": "execute_result"
    }
   ],
   "source": [
    "#liczba próbek w odległości +/- 2std\n",
    "len( data[ (data>=data.mean()-2*data.std())&(data<=data.mean()+2*data.std()) ] ) / N * 100"
   ]
  },
  {
   "cell_type": "code",
   "execution_count": 10,
   "id": "d9351c7c",
   "metadata": {},
   "outputs": [
    {
     "data": {
      "text/plain": [
       "99.7331"
      ]
     },
     "execution_count": 10,
     "metadata": {},
     "output_type": "execute_result"
    }
   ],
   "source": [
    "#liczba próbek w odległości +/- 3std\n",
    "len( data[ (data>=data.mean()-3*data.std())&(data<=data.mean()+3*data.std()) ] ) / N * 100"
   ]
  },
  {
   "cell_type": "code",
   "execution_count": 11,
   "id": "59e7edb6",
   "metadata": {},
   "outputs": [],
   "source": [
    "# test rozkładu normalnego z wykorzystaniem testu Shapiro-Wilka\n",
    "from scipy.stats import shapiro"
   ]
  },
  {
   "cell_type": "code",
   "execution_count": 12,
   "id": "df582a3a",
   "metadata": {},
   "outputs": [
    {
     "name": "stderr",
     "output_type": "stream",
     "text": [
      "C:\\Users\\kurs\\anaconda3\\lib\\site-packages\\scipy\\stats\\morestats.py:1681: UserWarning: p-value may not be accurate for N > 5000.\n",
      "  warnings.warn(\"p-value may not be accurate for N > 5000.\")\n"
     ]
    },
    {
     "data": {
      "text/plain": [
       "ShapiroResult(statistic=1.0002193450927734, pvalue=1.0)"
      ]
     },
     "execution_count": 12,
     "metadata": {},
     "output_type": "execute_result"
    }
   ],
   "source": [
    "shapiro(data)"
   ]
  },
  {
   "cell_type": "markdown",
   "id": "5b505bc1",
   "metadata": {},
   "source": [
    "### Korelacja"
   ]
  },
  {
   "cell_type": "code",
   "execution_count": 13,
   "id": "c8c457d0",
   "metadata": {},
   "outputs": [],
   "source": [
    "x = np.random.randint(-10, 11, 5000)\n",
    "y = 2*x + 5*np.random.randn(5000)"
   ]
  },
  {
   "cell_type": "code",
   "execution_count": 14,
   "id": "418ea05d",
   "metadata": {},
   "outputs": [
    {
     "data": {
      "text/plain": [
       "<matplotlib.collections.PathCollection at 0x13d9423b250>"
      ]
     },
     "execution_count": 14,
     "metadata": {},
     "output_type": "execute_result"
    },
    {
     "data": {
      "image/png": "[encoded data removed]",
      "text/plain": [
       "<Figure size 432x288 with 1 Axes>"
      ]
     },
     "metadata": {
      "needs_background": "light"
     },
     "output_type": "display_data"
    }
   ],
   "source": [
    "plt.scatter(x, y)"
   ]
  },
  {
   "cell_type": "code",
   "execution_count": 15,
   "id": "130930e0",
   "metadata": {},
   "outputs": [],
   "source": [
    "from scipy.stats import pearsonr, spearmanr"
   ]
  },
  {
   "cell_type": "code",
   "execution_count": 17,
   "id": "94fe7a8d",
   "metadata": {},
   "outputs": [
    {
     "data": {
      "text/plain": [
       "((0.9216848367610493, 0.0),\n",
       " SpearmanrResult(correlation=0.9277101793629197, pvalue=0.0))"
      ]
     },
     "execution_count": 17,
     "metadata": {},
     "output_type": "execute_result"
    }
   ],
   "source": [
    "pearsonr(x,y) , spearmanr(x,y)"
   ]
  },
  {
   "cell_type": "code",
   "execution_count": 18,
   "id": "af480544",
   "metadata": {},
   "outputs": [
    {
     "data": {
      "text/html": [
       "<div>\n",
       "<style scoped>\n",
       "    .dataframe tbody tr th:only-of-type {\n",
       "        vertical-align: middle;\n",
       "    }\n",
       "\n",
       "    .dataframe tbody tr th {\n",
       "        vertical-align: top;\n",
       "    }\n",
       "\n",
       "    .dataframe thead th {\n",
       "        text-align: right;\n",
       "    }\n",
       "</style>\n",
       "<table border=\"1\" class=\"dataframe\">\n",
       "  <thead>\n",
       "    <tr style=\"text-align: right;\">\n",
       "      <th></th>\n",
       "      <th>x</th>\n",
       "      <th>y</th>\n",
       "    </tr>\n",
       "  </thead>\n",
       "  <tbody>\n",
       "    <tr>\n",
       "      <th>0</th>\n",
       "      <td>10</td>\n",
       "      <td>20.500490</td>\n",
       "    </tr>\n",
       "    <tr>\n",
       "      <th>1</th>\n",
       "      <td>2</td>\n",
       "      <td>-0.818304</td>\n",
       "    </tr>\n",
       "    <tr>\n",
       "      <th>2</th>\n",
       "      <td>4</td>\n",
       "      <td>7.953751</td>\n",
       "    </tr>\n",
       "    <tr>\n",
       "      <th>3</th>\n",
       "      <td>3</td>\n",
       "      <td>4.195029</td>\n",
       "    </tr>\n",
       "    <tr>\n",
       "      <th>4</th>\n",
       "      <td>8</td>\n",
       "      <td>16.048773</td>\n",
       "    </tr>\n",
       "    <tr>\n",
       "      <th>5</th>\n",
       "      <td>-2</td>\n",
       "      <td>-8.445710</td>\n",
       "    </tr>\n",
       "    <tr>\n",
       "      <th>6</th>\n",
       "      <td>4</td>\n",
       "      <td>12.264738</td>\n",
       "    </tr>\n",
       "    <tr>\n",
       "      <th>7</th>\n",
       "      <td>7</td>\n",
       "      <td>7.818311</td>\n",
       "    </tr>\n",
       "    <tr>\n",
       "      <th>8</th>\n",
       "      <td>-10</td>\n",
       "      <td>-22.044185</td>\n",
       "    </tr>\n",
       "    <tr>\n",
       "      <th>9</th>\n",
       "      <td>3</td>\n",
       "      <td>9.558487</td>\n",
       "    </tr>\n",
       "  </tbody>\n",
       "</table>\n",
       "</div>"
      ],
      "text/plain": [
       "    x          y\n",
       "0  10  20.500490\n",
       "1   2  -0.818304\n",
       "2   4   7.953751\n",
       "3   3   4.195029\n",
       "4   8  16.048773\n",
       "5  -2  -8.445710\n",
       "6   4  12.264738\n",
       "7   7   7.818311\n",
       "8 -10 -22.044185\n",
       "9   3   9.558487"
      ]
     },
     "execution_count": 18,
     "metadata": {},
     "output_type": "execute_result"
    }
   ],
   "source": [
    "df = pd.DataFrame({ \"x\":x, \"y\":y })\n",
    "df.head(10)"
   ]
  },
  {
   "cell_type": "code",
   "execution_count": 19,
   "id": "69001a33",
   "metadata": {},
   "outputs": [
    {
     "data": {
      "text/html": [
       "<div>\n",
       "<style scoped>\n",
       "    .dataframe tbody tr th:only-of-type {\n",
       "        vertical-align: middle;\n",
       "    }\n",
       "\n",
       "    .dataframe tbody tr th {\n",
       "        vertical-align: top;\n",
       "    }\n",
       "\n",
       "    .dataframe thead th {\n",
       "        text-align: right;\n",
       "    }\n",
       "</style>\n",
       "<table border=\"1\" class=\"dataframe\">\n",
       "  <thead>\n",
       "    <tr style=\"text-align: right;\">\n",
       "      <th></th>\n",
       "      <th>x</th>\n",
       "      <th>y</th>\n",
       "    </tr>\n",
       "  </thead>\n",
       "  <tbody>\n",
       "    <tr>\n",
       "      <th>x</th>\n",
       "      <td>1.000000</td>\n",
       "      <td>0.921685</td>\n",
       "    </tr>\n",
       "    <tr>\n",
       "      <th>y</th>\n",
       "      <td>0.921685</td>\n",
       "      <td>1.000000</td>\n",
       "    </tr>\n",
       "  </tbody>\n",
       "</table>\n",
       "</div>"
      ],
      "text/plain": [
       "          x         y\n",
       "x  1.000000  0.921685\n",
       "y  0.921685  1.000000"
      ]
     },
     "execution_count": 19,
     "metadata": {},
     "output_type": "execute_result"
    }
   ],
   "source": [
    "df.corr()"
   ]
  },
  {
   "cell_type": "code",
   "execution_count": null,
   "id": "ead104ff",
   "metadata": {},
   "outputs": [],
   "source": []
  }
 ],
 "metadata": {
  "kernelspec": {
   "display_name": "Python 3",
   "language": "python",
   "name": "python3"
  },
  "language_info": {
   "codemirror_mode": {
    "name": "ipython",
    "version": 3
   },
   "file_extension": ".py",
   "mimetype": "text/x-python",
   "name": "python",
   "nbconvert_exporter": "python",
   "pygments_lexer": "ipython3",
   "version": "3.8.8"
  }
 },
 "nbformat": 4,
 "nbformat_minor": 5
}
