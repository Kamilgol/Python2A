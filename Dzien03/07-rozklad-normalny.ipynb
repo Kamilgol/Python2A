{
 "cells": [
  {
   "cell_type": "code",
   "execution_count": 1,
   "id": "7c9a3108",
   "metadata": {},
   "outputs": [],
   "source": [
    "import numpy as np\n",
    "import pandas as pd\n",
    "import matplotlib.pyplot as plt"
   ]
  },
  {
   "cell_type": "code",
   "execution_count": 2,
   "id": "c435309d",
   "metadata": {},
   "outputs": [],
   "source": [
    "np.random.seed(0)\n",
    "N = 1_000_000"
   ]
  },
  {
   "cell_type": "markdown",
   "id": "f9f1f12a",
   "metadata": {},
   "source": [
    "### Generowanie rozkładu normalnego"
   ]
  },
  {
   "cell_type": "code",
   "execution_count": 3,
   "id": "36260ac0",
   "metadata": {},
   "outputs": [],
   "source": [
    "data = np.random.randn(N)"
   ]
  },
  {
   "cell_type": "code",
   "execution_count": 4,
   "id": "4b0868de",
   "metadata": {},
   "outputs": [
    {
     "data": {
      "text/plain": [
       "(0.0015121465155362318, 0.002387730826572747, 0.9999213260166574)"
      ]
     },
     "execution_count": 4,
     "metadata": {},
     "output_type": "execute_result"
    }
   ],
   "source": [
    "np.mean(data), np.median(data), np.std(data)"
   ]
  },
  {
   "cell_type": "code",
   "execution_count": 11,
   "id": "f1371e2f",
   "metadata": {},
   "outputs": [
    {
     "data": {
      "image/png": "[encoded data removed]",
      "text/plain": [
       "<Figure size 864x432 with 1 Axes>"
      ]
     },
     "metadata": {
      "needs_background": "light"
     },
     "output_type": "display_data"
    }
   ],
   "source": [
    "plt.figure(figsize=(12,6))\n",
    "plt.hist(data, color='red', bins=50)\n",
    "plt.axvline( np.mean(data), color=\"black\" )\n",
    "plt.axvline( np.mean(data)+np.std(data), color=\"green\" ); plt.axvline( np.mean(data)-np.std(data), color=\"green\" )\n",
    "plt.axvline( np.mean(data)+2*np.std(data), color=\"yellow\" ); plt.axvline( np.mean(data)-2*np.std(data), color=\"yellow\" )\n",
    "plt.axvline( np.mean(data)+3*np.std(data), color=\"magenta\" ); plt.axvline( np.mean(data)-3*np.std(data), color=\"magenta\" )\n",
    "plt.show()"
   ]
  },
  {
   "cell_type": "code",
   "execution_count": 14,
   "id": "a02aa75e",
   "metadata": {},
   "outputs": [
    {
     "data": {
      "text/plain": [
       "68.28"
      ]
     },
     "execution_count": 14,
     "metadata": {},
     "output_type": "execute_result"
    }
   ],
   "source": [
    "#liczba próbek w odległości +/- 1std\n",
    "len( data[ (data>=data.mean()-1*data.std())&(data<=data.mean()+1*data.std()) ] ) / N * 100"
   ]
  },
  {
   "cell_type": "code",
   "execution_count": 15,
   "id": "79786099",
   "metadata": {},
   "outputs": [
    {
     "data": {
      "text/plain": [
       "95.4563"
      ]
     },
     "execution_count": 15,
     "metadata": {},
     "output_type": "execute_result"
    }
   ],
   "source": [
    "#liczba próbek w odległości +/- 2std\n",
    "len( data[ (data>=data.mean()-2*data.std())&(data<=data.mean()+2*data.std()) ] ) / N * 100"
   ]
  },
  {
   "cell_type": "code",
   "execution_count": 16,
   "id": "d9351c7c",
   "metadata": {},
   "outputs": [
    {
     "data": {
      "text/plain": [
       "99.7331"
      ]
     },
     "execution_count": 16,
     "metadata": {},
     "output_type": "execute_result"
    }
   ],
   "source": [
    "#liczba próbek w odległości +/- 3std\n",
    "len( data[ (data>=data.mean()-3*data.std())&(data<=data.mean()+3*data.std()) ] ) / N * 100"
   ]
  },
  {
   "cell_type": "code",
   "execution_count": null,
   "id": "59e7edb6",
   "metadata": {},
   "outputs": [],
   "source": []
  }
 ],
 "metadata": {
  "kernelspec": {
   "display_name": "Python 3",
   "language": "python",
   "name": "python3"
  },
  "language_info": {
   "codemirror_mode": {
    "name": "ipython",
    "version": 3
   },
   "file_extension": ".py",
   "mimetype": "text/x-python",
   "name": "python",
   "nbconvert_exporter": "python",
   "pygments_lexer": "ipython3",
   "version": "3.8.8"
  }
 },
 "nbformat": 4,
 "nbformat_minor": 5
}
