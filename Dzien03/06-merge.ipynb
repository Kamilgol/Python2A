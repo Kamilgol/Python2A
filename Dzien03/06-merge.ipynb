{
 "cells": [
  {
   "cell_type": "code",
   "execution_count": null,
   "id": "b1e76fa3",
   "metadata": {},
   "outputs": [],
   "source": [
    "import pandas as pd"
   ]
  },
  {
   "cell_type": "code",
   "execution_count": null,
   "id": "4ee2acdb",
   "metadata": {},
   "outputs": [],
   "source": [
    "df1 = pd.read_csv(\"http://51.91.120.89/extras/otodom-head-sample.csv\", sep=\";\")\n",
    "df1 = df1[ df1.columns[3:] ]\n",
    "df1.head()"
   ]
  },
  {
   "cell_type": "code",
   "execution_count": null,
   "id": "8354908e",
   "metadata": {},
   "outputs": [],
   "source": [
    "df2 = pd.read_csv(\"http://51.91.120.89/extras/otodom-details-sample.csv\", sep=\";\", usecols=[\"ID\",\"descr\"])\n",
    "df2.head()"
   ]
  },
  {
   "cell_type": "code",
   "execution_count": null,
   "id": "9dd18901",
   "metadata": {},
   "outputs": [],
   "source": [
    "df1.shape, df2.shape"
   ]
  },
  {
   "cell_type": "code",
   "execution_count": null,
   "id": "7bb06f6d",
   "metadata": {},
   "outputs": [],
   "source": [
    "pd.merge(df1, df2, on=\"ID\")"
   ]
  },
  {
   "cell_type": "code",
   "execution_count": null,
   "id": "5b24e34d",
   "metadata": {},
   "outputs": [],
   "source": [
    "# zmiana nazwy kolumny z ID na ogl_id w df2\n",
    "df2.rename(columns={\"ID\":\"ogl_id\"}, inplace=True)\n",
    "df2.head(2)"
   ]
  },
  {
   "cell_type": "code",
   "execution_count": null,
   "id": "2afefb08",
   "metadata": {},
   "outputs": [],
   "source": [
    "# złączenie lewostronne\n",
    "df_res = pd.merge(df1, df2, how=\"left\", left_on=\"ID\", right_on=\"ogl_id\", indicator=True)\n",
    "df_res"
   ]
  },
  {
   "cell_type": "code",
   "execution_count": null,
   "id": "80682b86",
   "metadata": {},
   "outputs": [],
   "source": [
    "df_res._merge.value_counts()"
   ]
  },
  {
   "cell_type": "code",
   "execution_count": null,
   "id": "4439f725",
   "metadata": {},
   "outputs": [],
   "source": [
    "df_res.query(\" _merge=='left_only' \")"
   ]
  },
  {
   "cell_type": "code",
   "execution_count": null,
   "id": "156cf483",
   "metadata": {},
   "outputs": [],
   "source": [
    "# złączenie prawostronne\n",
    "df_res = pd.merge(df1, df2, how=\"right\", left_on=\"ID\", right_on=\"ogl_id\", indicator=True)\n",
    "df_res"
   ]
  },
  {
   "cell_type": "code",
   "execution_count": null,
   "id": "b00da8fd",
   "metadata": {},
   "outputs": [],
   "source": [
    "df_res._merge.value_counts()"
   ]
  },
  {
   "cell_type": "code",
   "execution_count": null,
   "id": "60c18e68",
   "metadata": {},
   "outputs": [],
   "source": [
    "df1 = df1.sample(frac=0.3, random_state=0)\n",
    "df2 = df2.sample(frac=0.3, random_state=0)"
   ]
  },
  {
   "cell_type": "code",
   "execution_count": null,
   "id": "105d3398",
   "metadata": {},
   "outputs": [],
   "source": [
    "df1.shape, df2.shape"
   ]
  },
  {
   "cell_type": "code",
   "execution_count": null,
   "id": "a6d00228",
   "metadata": {},
   "outputs": [],
   "source": [
    "# złączenie prawostronne\n",
    "df_res = pd.merge(df1, df2, how=\"outer\", left_on=\"ID\", right_on=\"ogl_id\", indicator=True)\n",
    "df_res"
   ]
  },
  {
   "cell_type": "code",
   "execution_count": null,
   "id": "5d99774d",
   "metadata": {},
   "outputs": [],
   "source": [
    "df_res._merge.value_counts()"
   ]
  },
  {
   "cell_type": "code",
   "execution_count": null,
   "id": "a861ae6a",
   "metadata": {},
   "outputs": [],
   "source": []
  }
 ],
 "metadata": {
  "kernelspec": {
   "display_name": "Python 3",
   "language": "python",
   "name": "python3"
  },
  "language_info": {
   "codemirror_mode": {
    "name": "ipython",
    "version": 3
   },
   "file_extension": ".py",
   "mimetype": "text/x-python",
   "name": "python",
   "nbconvert_exporter": "python",
   "pygments_lexer": "ipython3",
   "version": "3.8.8"
  }
 },
 "nbformat": 4,
 "nbformat_minor": 5
}
