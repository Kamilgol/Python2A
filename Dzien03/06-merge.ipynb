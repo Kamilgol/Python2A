{
 "cells": [
  {
   "cell_type": "code",
   "execution_count": null,
   "id": "767b1937",
   "metadata": {},
   "outputs": [],
   "source": [
    "import pandas as pd"
   ]
  },
  {
   "cell_type": "code",
   "execution_count": null,
   "id": "f3373751",
   "metadata": {},
   "outputs": [],
   "source": [
    "df1 = pd.read_csv(\"http://51.91.120.89/extras/otodom-head-sample.csv\", sep=\";\")\n",
    "df1 = df1[ df1.columns[3:] ]\n",
    "df1.head()"
   ]
  },
  {
   "cell_type": "code",
   "execution_count": null,
   "id": "b4ecf2e3",
   "metadata": {},
   "outputs": [],
   "source": [
    "df2 = pd.read_csv(\"http://51.91.120.89/extras/otodom-details-sample.csv\", sep=\";\", usecols=[\"ID\",\"descr\"])\n",
    "df2.head()"
   ]
  },
  {
   "cell_type": "code",
   "execution_count": null,
   "id": "599c7293",
   "metadata": {},
   "outputs": [],
   "source": [
    "df1.shape, df2.shape"
   ]
  },
  {
   "cell_type": "code",
   "execution_count": null,
   "id": "9fd99c9e",
   "metadata": {},
   "outputs": [],
   "source": [
    "pd.merge(df1, df2, on=\"ID\")"
   ]
  },
  {
   "cell_type": "code",
   "execution_count": null,
   "id": "c8261fd2",
   "metadata": {},
   "outputs": [],
   "source": [
    "# zmiana nazwy kolumny z ID na ogl_id w df2\n",
    "df2.rename(columns={\"ID\":\"ogl_id\"}, inplace=True)\n",
    "df2.head(2)"
   ]
  },
  {
   "cell_type": "code",
   "execution_count": null,
   "id": "dfbd17f3",
   "metadata": {},
   "outputs": [],
   "source": [
    "# złączenie lewostronne\n",
    "df_res = pd.merge(df1, df2, how=\"left\", left_on=\"ID\", right_on=\"ogl_id\", indicator=True)\n",
    "df_res"
   ]
  },
  {
   "cell_type": "code",
   "execution_count": null,
   "id": "2714f58f",
   "metadata": {},
   "outputs": [],
   "source": [
    "df_res._merge.value_counts()"
   ]
  },
  {
   "cell_type": "code",
   "execution_count": null,
   "id": "90e214d5",
   "metadata": {},
   "outputs": [],
   "source": [
    "df_res.query(\" _merge=='left_only' \")"
   ]
  },
  {
   "cell_type": "code",
   "execution_count": null,
   "id": "76891a10",
   "metadata": {},
   "outputs": [],
   "source": [
    "# złączenie prawostronne\n",
    "df_res = pd.merge(df1, df2, how=\"right\", left_on=\"ID\", right_on=\"ogl_id\", indicator=True)\n",
    "df_res"
   ]
  },
  {
   "cell_type": "code",
   "execution_count": null,
   "id": "8efea445",
   "metadata": {},
   "outputs": [],
   "source": [
    "df_res._merge.value_counts()"
   ]
  },
  {
   "cell_type": "code",
   "execution_count": null,
   "id": "11137f8a",
   "metadata": {},
   "outputs": [],
   "source": [
    "df1 = df1.sample(frac=0.3, random_state=0)\n",
    "df2 = df2.sample(frac=0.3, random_state=0)"
   ]
  },
  {
   "cell_type": "code",
   "execution_count": null,
   "id": "056466fe",
   "metadata": {},
   "outputs": [],
   "source": [
    "df1.shape, df2.shape"
   ]
  },
  {
   "cell_type": "code",
   "execution_count": null,
   "id": "a5c77f6a",
   "metadata": {},
   "outputs": [],
   "source": [
    "# złączenie zewnętrzne\n",
    "df_res = pd.merge(df1, df2, how=\"outer\", left_on=\"ID\", right_on=\"ogl_id\", indicator=True)\n",
    "df_res"
   ]
  },
  {
   "cell_type": "code",
   "execution_count": 23,
   "id": "b47919e8",
   "metadata": {},
   "outputs": [
    {
     "data": {
      "text/plain": [
       "left_only     59\n",
       "right_only    58\n",
       "both          31\n",
       "Name: _merge, dtype: int64"
      ]
     },
     "execution_count": 23,
     "metadata": {},
     "output_type": "execute_result"
    }
   ],
   "source": [
    "df_res._merge.value_counts()"
   ]
  },
  {
   "cell_type": "code",
   "execution_count": null,
   "id": "ed7134f0",
   "metadata": {},
   "outputs": [],
   "source": []
  }
 ],
 "metadata": {
  "kernelspec": {
   "display_name": "Python 3",
   "language": "python",
   "name": "python3"
  },
  "language_info": {
   "codemirror_mode": {
    "name": "ipython",
    "version": 3
   },
   "file_extension": ".py",
   "mimetype": "text/x-python",
   "name": "python",
   "nbconvert_exporter": "python",
   "pygments_lexer": "ipython3",
   "version": "3.8.8"
  }
 },
 "nbformat": 4,
 "nbformat_minor": 5
}
